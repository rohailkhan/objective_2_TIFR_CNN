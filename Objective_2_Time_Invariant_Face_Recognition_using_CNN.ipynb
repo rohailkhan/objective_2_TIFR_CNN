{
 "cells": [
  {
   "cell_type": "markdown",
   "metadata": {
    "colab_type": "text",
    "id": "5xjJqpDwSeav"
   },
   "source": [
    "# Objective-2 Time Invariant Face Recognition using Convolutional Neural Network (CNN)"
   ]
  },
  {
   "cell_type": "markdown",
   "metadata": {},
   "source": [
    "## I have included the trained Saved model and its loss and accuracy history by the following titles in github repository:\n",
    "### 1 - model_july30.h5    (Trained Convolutional Netowork Model)\n",
    "### 2 - history_july30.json    (Accuracy and Loss history of Trained Convlutional Netowork Model)"
   ]
  },
  {
   "cell_type": "markdown",
   "metadata": {},
   "source": [
    "## Step-1 Importing Libraries"
   ]
  },
  {
   "cell_type": "code",
   "execution_count": 1,
   "metadata": {},
   "outputs": [
    {
     "name": "stdout",
     "output_type": "stream",
     "text": [
      "2.1.0\n"
     ]
    }
   ],
   "source": [
    "import tensorflow as tf\n",
    "print(tf.__version__)"
   ]
  },
  {
   "cell_type": "code",
   "execution_count": 2,
   "metadata": {
    "colab": {},
    "colab_type": "code",
    "id": "SnvsFBji40ko"
   },
   "outputs": [],
   "source": [
    "# for reproducibility\n",
    "import numpy as np\n",
    "np.random.seed(1337) "
   ]
  },
  {
   "cell_type": "code",
   "execution_count": 3,
   "metadata": {
    "colab": {},
    "colab_type": "code",
    "id": "2yhsX-nHTDUy"
   },
   "outputs": [
    {
     "name": "stderr",
     "output_type": "stream",
     "text": [
      "Using TensorFlow backend.\n"
     ]
    }
   ],
   "source": [
    "from keras.models import Sequential\n",
    "from keras.callbacks import EarlyStopping,TensorBoard\n",
    "\n",
    "from keras_preprocessing.image import ImageDataGenerator \n",
    "from keras.layers import Dense, Activation, Flatten, Dropout, BatchNormalization\n",
    "from keras.layers import Conv2D, MaxPooling2D\n",
    "from keras import regularizers, optimizers\n",
    "import pandas as pd\n",
    "import os ,PIL\n",
    "import matplotlib.pyplot as plt"
   ]
  },
  {
   "cell_type": "markdown",
   "metadata": {
    "colab_type": "text",
    "id": "509oVvTZC8X4"
   },
   "source": [
    "## Location of folder with all the data and other files"
   ]
  },
  {
   "cell_type": "code",
   "execution_count": 4,
   "metadata": {},
   "outputs": [
    {
     "data": {
      "text/plain": [
       "'F:\\\\Time-Invariant  aging model Final\\\\Objective_2'"
      ]
     },
     "execution_count": 4,
     "metadata": {},
     "output_type": "execute_result"
    }
   ],
   "source": [
    "dir=os.getcwd()\n",
    "dir\n"
   ]
  },
  {
   "cell_type": "code",
   "execution_count": 226,
   "metadata": {
    "colab": {},
    "colab_type": "code",
    "id": "Rez5bZLBDCAe"
   },
   "outputs": [],
   "source": [
    "#data_folder_location='/content/drive/My Drive/Aging model/fg'"
   ]
  },
  {
   "cell_type": "markdown",
   "metadata": {
    "colab_type": "text",
    "id": "sTL0_vRsvPF9"
   },
   "source": [
    "# Step-2 Putting all files into a single dataframe"
   ]
  },
  {
   "cell_type": "code",
   "execution_count": 155,
   "metadata": {},
   "outputs": [],
   "source": [
    "# Put all files into a single dataframe\n",
    "list_dir = [i for i in os.listdir(dir +'/datafiles')]\n",
    "\n",
    "final_df = pd.DataFrame(columns=['ID','Facial Index','Mandibular Index','Intercantal Index','Orbital Width Index','Eye Fissure Index','Vermilion Height Index','Mouth Face Width Index','AGE'])\n",
    "interim_df = pd.DataFrame(columns=['ID','Facial Index','Mandibular Index','Intercantal Index','Orbital Width Index','Eye Fissure Index','Vermilion Height Index','Mouth Face Width Index','AGE'])\n",
    "age_list=list()\n",
    "for d in list_dir:\n",
    "    interim_df.at[0,  ['Facial Index','Mandibular Index','Intercantal Index','Orbital Width Index','Eye Fissure Index','Vermilion Height Index','Mouth Face Width Index']] = pd.read_csv(dir +'/datafiles/'+d, sep=\" \", header=None).values[0][:7]\n",
    "    interim_df['AGE'] = int(d[4:].replace('.txt','').replace('a','').replace('b',''))\n",
    "    interim_df['ID'] = int(d[:3])\n",
    "    final_df = pd.concat([final_df,interim_df])\n",
    "    \n",
    "# sort values by age of same person\n",
    "final_df = final_df.sort_values(['ID','AGE'],ascending=True)"
   ]
  },
  {
   "cell_type": "code",
   "execution_count": 157,
   "metadata": {},
   "outputs": [
    {
     "data": {
      "text/html": [
       "<div>\n",
       "<style scoped>\n",
       "    .dataframe tbody tr th:only-of-type {\n",
       "        vertical-align: middle;\n",
       "    }\n",
       "\n",
       "    .dataframe tbody tr th {\n",
       "        vertical-align: top;\n",
       "    }\n",
       "\n",
       "    .dataframe thead th {\n",
       "        text-align: right;\n",
       "    }\n",
       "</style>\n",
       "<table border=\"1\" class=\"dataframe\">\n",
       "  <thead>\n",
       "    <tr style=\"text-align: right;\">\n",
       "      <th></th>\n",
       "      <th>ID</th>\n",
       "      <th>Facial Index</th>\n",
       "      <th>Mandibular Index</th>\n",
       "      <th>Intercantal Index</th>\n",
       "      <th>Orbital Width Index</th>\n",
       "      <th>Eye Fissure Index</th>\n",
       "      <th>Vermilion Height Index</th>\n",
       "      <th>Mouth Face Width Index</th>\n",
       "      <th>AGE</th>\n",
       "    </tr>\n",
       "  </thead>\n",
       "  <tbody>\n",
       "    <tr>\n",
       "      <th>0</th>\n",
       "      <td>1</td>\n",
       "      <td>0.80607</td>\n",
       "      <td>0.336661</td>\n",
       "      <td>0.390837</td>\n",
       "      <td>0.828399</td>\n",
       "      <td>0.521382</td>\n",
       "      <td>0.59903</td>\n",
       "      <td>0.34635</td>\n",
       "      <td>2</td>\n",
       "    </tr>\n",
       "    <tr>\n",
       "      <th>0</th>\n",
       "      <td>1</td>\n",
       "      <td>0.852819</td>\n",
       "      <td>0.442643</td>\n",
       "      <td>0.38698</td>\n",
       "      <td>0.774311</td>\n",
       "      <td>0.461004</td>\n",
       "      <td>0.659254</td>\n",
       "      <td>0.393676</td>\n",
       "      <td>5</td>\n",
       "    </tr>\n",
       "    <tr>\n",
       "      <th>0</th>\n",
       "      <td>1</td>\n",
       "      <td>0.877282</td>\n",
       "      <td>0.404491</td>\n",
       "      <td>0.442716</td>\n",
       "      <td>0.675757</td>\n",
       "      <td>0.358158</td>\n",
       "      <td>0.30682</td>\n",
       "      <td>0.384508</td>\n",
       "      <td>8</td>\n",
       "    </tr>\n",
       "    <tr>\n",
       "      <th>0</th>\n",
       "      <td>1</td>\n",
       "      <td>0.883831</td>\n",
       "      <td>0.395061</td>\n",
       "      <td>0.415456</td>\n",
       "      <td>0.69811</td>\n",
       "      <td>0.419721</td>\n",
       "      <td>0.409635</td>\n",
       "      <td>0.361281</td>\n",
       "      <td>10</td>\n",
       "    </tr>\n",
       "    <tr>\n",
       "      <th>0</th>\n",
       "      <td>1</td>\n",
       "      <td>0.892233</td>\n",
       "      <td>0.408905</td>\n",
       "      <td>0.421452</td>\n",
       "      <td>0.690838</td>\n",
       "      <td>0.414924</td>\n",
       "      <td>0.511849</td>\n",
       "      <td>0.428505</td>\n",
       "      <td>14</td>\n",
       "    </tr>\n",
       "  </tbody>\n",
       "</table>\n",
       "</div>"
      ],
      "text/plain": [
       "  ID Facial Index Mandibular Index Intercantal Index Orbital Width Index  \\\n",
       "0  1      0.80607         0.336661          0.390837            0.828399   \n",
       "0  1     0.852819         0.442643           0.38698            0.774311   \n",
       "0  1     0.877282         0.404491          0.442716            0.675757   \n",
       "0  1     0.883831         0.395061          0.415456             0.69811   \n",
       "0  1     0.892233         0.408905          0.421452            0.690838   \n",
       "\n",
       "  Eye Fissure Index Vermilion Height Index Mouth Face Width Index AGE  \n",
       "0          0.521382                0.59903                0.34635   2  \n",
       "0          0.461004               0.659254               0.393676   5  \n",
       "0          0.358158                0.30682               0.384508   8  \n",
       "0          0.419721               0.409635               0.361281  10  \n",
       "0          0.414924               0.511849               0.428505  14  "
      ]
     },
     "execution_count": 157,
     "metadata": {},
     "output_type": "execute_result"
    }
   ],
   "source": [
    "final_df.head()"
   ]
  },
  {
   "cell_type": "code",
   "execution_count": 158,
   "metadata": {},
   "outputs": [
    {
     "data": {
      "text/html": [
       "<div>\n",
       "<style scoped>\n",
       "    .dataframe tbody tr th:only-of-type {\n",
       "        vertical-align: middle;\n",
       "    }\n",
       "\n",
       "    .dataframe tbody tr th {\n",
       "        vertical-align: top;\n",
       "    }\n",
       "\n",
       "    .dataframe thead th {\n",
       "        text-align: right;\n",
       "    }\n",
       "</style>\n",
       "<table border=\"1\" class=\"dataframe\">\n",
       "  <thead>\n",
       "    <tr style=\"text-align: right;\">\n",
       "      <th></th>\n",
       "      <th>ID</th>\n",
       "      <th>Facial Index</th>\n",
       "      <th>Mandibular Index</th>\n",
       "      <th>Intercantal Index</th>\n",
       "      <th>Orbital Width Index</th>\n",
       "      <th>Eye Fissure Index</th>\n",
       "      <th>Vermilion Height Index</th>\n",
       "      <th>Mouth Face Width Index</th>\n",
       "      <th>AGE</th>\n",
       "    </tr>\n",
       "  </thead>\n",
       "  <tbody>\n",
       "    <tr>\n",
       "      <th>0</th>\n",
       "      <td>82</td>\n",
       "      <td>0.97119</td>\n",
       "      <td>0.456241</td>\n",
       "      <td>0.431464</td>\n",
       "      <td>0.688562</td>\n",
       "      <td>0.362097</td>\n",
       "      <td>0.776495</td>\n",
       "      <td>0.421004</td>\n",
       "      <td>22</td>\n",
       "    </tr>\n",
       "    <tr>\n",
       "      <th>0</th>\n",
       "      <td>82</td>\n",
       "      <td>0.922055</td>\n",
       "      <td>0.457388</td>\n",
       "      <td>0.366031</td>\n",
       "      <td>0.807954</td>\n",
       "      <td>0.40289</td>\n",
       "      <td>0.800289</td>\n",
       "      <td>0.386978</td>\n",
       "      <td>23</td>\n",
       "    </tr>\n",
       "    <tr>\n",
       "      <th>0</th>\n",
       "      <td>82</td>\n",
       "      <td>0.948693</td>\n",
       "      <td>0.473651</td>\n",
       "      <td>0.409538</td>\n",
       "      <td>0.731037</td>\n",
       "      <td>0.290797</td>\n",
       "      <td>0.600109</td>\n",
       "      <td>0.465623</td>\n",
       "      <td>25</td>\n",
       "    </tr>\n",
       "    <tr>\n",
       "      <th>0</th>\n",
       "      <td>82</td>\n",
       "      <td>0.914195</td>\n",
       "      <td>0.500786</td>\n",
       "      <td>0.416904</td>\n",
       "      <td>0.543606</td>\n",
       "      <td>0.480518</td>\n",
       "      <td>0.876548</td>\n",
       "      <td>0.394899</td>\n",
       "      <td>27</td>\n",
       "    </tr>\n",
       "    <tr>\n",
       "      <th>0</th>\n",
       "      <td>82</td>\n",
       "      <td>0.915017</td>\n",
       "      <td>0.478165</td>\n",
       "      <td>0.404374</td>\n",
       "      <td>0.681841</td>\n",
       "      <td>0.316847</td>\n",
       "      <td>0.735635</td>\n",
       "      <td>0.450559</td>\n",
       "      <td>31</td>\n",
       "    </tr>\n",
       "  </tbody>\n",
       "</table>\n",
       "</div>"
      ],
      "text/plain": [
       "   ID Facial Index Mandibular Index Intercantal Index Orbital Width Index  \\\n",
       "0  82      0.97119         0.456241          0.431464            0.688562   \n",
       "0  82     0.922055         0.457388          0.366031            0.807954   \n",
       "0  82     0.948693         0.473651          0.409538            0.731037   \n",
       "0  82     0.914195         0.500786          0.416904            0.543606   \n",
       "0  82     0.915017         0.478165          0.404374            0.681841   \n",
       "\n",
       "  Eye Fissure Index Vermilion Height Index Mouth Face Width Index AGE  \n",
       "0          0.362097               0.776495               0.421004  22  \n",
       "0           0.40289               0.800289               0.386978  23  \n",
       "0          0.290797               0.600109               0.465623  25  \n",
       "0          0.480518               0.876548               0.394899  27  \n",
       "0          0.316847               0.735635               0.450559  31  "
      ]
     },
     "execution_count": 158,
     "metadata": {},
     "output_type": "execute_result"
    }
   ],
   "source": [
    "final_df.tail()"
   ]
  },
  {
   "cell_type": "markdown",
   "metadata": {},
   "source": [
    "### Saving the prepared data in csv format"
   ]
  },
  {
   "cell_type": "code",
   "execution_count": 228,
   "metadata": {
    "colab": {},
    "colab_type": "code",
    "id": "CYd6hJYjvR9X"
   },
   "outputs": [],
   "source": [
    "#saving the dataframe\n",
    "final_df.to_csv(dir +'/final_df.csv',index=False)"
   ]
  },
  {
   "cell_type": "code",
   "execution_count": 5,
   "metadata": {
    "colab": {},
    "colab_type": "code",
    "id": "ibME3kdLvR19"
   },
   "outputs": [],
   "source": [
    "final_df=pd.read_csv(dir +'/final_df.csv')"
   ]
  },
  {
   "cell_type": "code",
   "execution_count": 6,
   "metadata": {
    "colab": {
     "base_uri": "https://localhost:8080/",
     "height": 241
    },
    "colab_type": "code",
    "id": "FjijsuYdvRt4",
    "outputId": "56edc34c-9561-4c4f-fa14-595afa3dcf14"
   },
   "outputs": [
    {
     "data": {
      "text/html": [
       "<div>\n",
       "<style scoped>\n",
       "    .dataframe tbody tr th:only-of-type {\n",
       "        vertical-align: middle;\n",
       "    }\n",
       "\n",
       "    .dataframe tbody tr th {\n",
       "        vertical-align: top;\n",
       "    }\n",
       "\n",
       "    .dataframe thead th {\n",
       "        text-align: right;\n",
       "    }\n",
       "</style>\n",
       "<table border=\"1\" class=\"dataframe\">\n",
       "  <thead>\n",
       "    <tr style=\"text-align: right;\">\n",
       "      <th></th>\n",
       "      <th>ID</th>\n",
       "      <th>Facial Index</th>\n",
       "      <th>Mandibular Index</th>\n",
       "      <th>Intercantal Index</th>\n",
       "      <th>Orbital Width Index</th>\n",
       "      <th>Eye Fissure Index</th>\n",
       "      <th>Vermilion Height Index</th>\n",
       "      <th>Mouth Face Width Index</th>\n",
       "      <th>AGE</th>\n",
       "    </tr>\n",
       "  </thead>\n",
       "  <tbody>\n",
       "    <tr>\n",
       "      <th>0</th>\n",
       "      <td>1</td>\n",
       "      <td>0.806070</td>\n",
       "      <td>0.336661</td>\n",
       "      <td>0.390837</td>\n",
       "      <td>0.828399</td>\n",
       "      <td>0.521382</td>\n",
       "      <td>0.599030</td>\n",
       "      <td>0.346350</td>\n",
       "      <td>2</td>\n",
       "    </tr>\n",
       "    <tr>\n",
       "      <th>1</th>\n",
       "      <td>1</td>\n",
       "      <td>0.852819</td>\n",
       "      <td>0.442643</td>\n",
       "      <td>0.386980</td>\n",
       "      <td>0.774311</td>\n",
       "      <td>0.461004</td>\n",
       "      <td>0.659254</td>\n",
       "      <td>0.393676</td>\n",
       "      <td>5</td>\n",
       "    </tr>\n",
       "    <tr>\n",
       "      <th>2</th>\n",
       "      <td>1</td>\n",
       "      <td>0.877282</td>\n",
       "      <td>0.404491</td>\n",
       "      <td>0.442716</td>\n",
       "      <td>0.675757</td>\n",
       "      <td>0.358158</td>\n",
       "      <td>0.306820</td>\n",
       "      <td>0.384508</td>\n",
       "      <td>8</td>\n",
       "    </tr>\n",
       "    <tr>\n",
       "      <th>3</th>\n",
       "      <td>1</td>\n",
       "      <td>0.883831</td>\n",
       "      <td>0.395061</td>\n",
       "      <td>0.415456</td>\n",
       "      <td>0.698110</td>\n",
       "      <td>0.419721</td>\n",
       "      <td>0.409635</td>\n",
       "      <td>0.361281</td>\n",
       "      <td>10</td>\n",
       "    </tr>\n",
       "    <tr>\n",
       "      <th>4</th>\n",
       "      <td>1</td>\n",
       "      <td>0.892233</td>\n",
       "      <td>0.408905</td>\n",
       "      <td>0.421452</td>\n",
       "      <td>0.690838</td>\n",
       "      <td>0.414924</td>\n",
       "      <td>0.511849</td>\n",
       "      <td>0.428505</td>\n",
       "      <td>14</td>\n",
       "    </tr>\n",
       "    <tr>\n",
       "      <th>5</th>\n",
       "      <td>1</td>\n",
       "      <td>0.944314</td>\n",
       "      <td>0.407135</td>\n",
       "      <td>0.408512</td>\n",
       "      <td>0.743147</td>\n",
       "      <td>0.440906</td>\n",
       "      <td>0.666368</td>\n",
       "      <td>0.396383</td>\n",
       "      <td>16</td>\n",
       "    </tr>\n",
       "    <tr>\n",
       "      <th>6</th>\n",
       "      <td>1</td>\n",
       "      <td>0.938624</td>\n",
       "      <td>0.454377</td>\n",
       "      <td>0.402658</td>\n",
       "      <td>0.758165</td>\n",
       "      <td>0.442331</td>\n",
       "      <td>0.901291</td>\n",
       "      <td>0.483564</td>\n",
       "      <td>18</td>\n",
       "    </tr>\n",
       "    <tr>\n",
       "      <th>7</th>\n",
       "      <td>1</td>\n",
       "      <td>1.024863</td>\n",
       "      <td>0.554703</td>\n",
       "      <td>0.452378</td>\n",
       "      <td>0.474424</td>\n",
       "      <td>0.469262</td>\n",
       "      <td>0.855291</td>\n",
       "      <td>0.362965</td>\n",
       "      <td>19</td>\n",
       "    </tr>\n",
       "    <tr>\n",
       "      <th>8</th>\n",
       "      <td>1</td>\n",
       "      <td>0.978536</td>\n",
       "      <td>0.473956</td>\n",
       "      <td>0.431465</td>\n",
       "      <td>0.604435</td>\n",
       "      <td>0.408842</td>\n",
       "      <td>0.749188</td>\n",
       "      <td>0.407392</td>\n",
       "      <td>22</td>\n",
       "    </tr>\n",
       "    <tr>\n",
       "      <th>9</th>\n",
       "      <td>1</td>\n",
       "      <td>1.019712</td>\n",
       "      <td>0.487711</td>\n",
       "      <td>0.462661</td>\n",
       "      <td>0.578721</td>\n",
       "      <td>0.349971</td>\n",
       "      <td>0.436990</td>\n",
       "      <td>0.439276</td>\n",
       "      <td>28</td>\n",
       "    </tr>\n",
       "  </tbody>\n",
       "</table>\n",
       "</div>"
      ],
      "text/plain": [
       "   ID  Facial Index  Mandibular Index  Intercantal Index  Orbital Width Index  \\\n",
       "0   1      0.806070          0.336661           0.390837             0.828399   \n",
       "1   1      0.852819          0.442643           0.386980             0.774311   \n",
       "2   1      0.877282          0.404491           0.442716             0.675757   \n",
       "3   1      0.883831          0.395061           0.415456             0.698110   \n",
       "4   1      0.892233          0.408905           0.421452             0.690838   \n",
       "5   1      0.944314          0.407135           0.408512             0.743147   \n",
       "6   1      0.938624          0.454377           0.402658             0.758165   \n",
       "7   1      1.024863          0.554703           0.452378             0.474424   \n",
       "8   1      0.978536          0.473956           0.431465             0.604435   \n",
       "9   1      1.019712          0.487711           0.462661             0.578721   \n",
       "\n",
       "   Eye Fissure Index  Vermilion Height Index  Mouth Face Width Index  AGE  \n",
       "0           0.521382                0.599030                0.346350    2  \n",
       "1           0.461004                0.659254                0.393676    5  \n",
       "2           0.358158                0.306820                0.384508    8  \n",
       "3           0.419721                0.409635                0.361281   10  \n",
       "4           0.414924                0.511849                0.428505   14  \n",
       "5           0.440906                0.666368                0.396383   16  \n",
       "6           0.442331                0.901291                0.483564   18  \n",
       "7           0.469262                0.855291                0.362965   19  \n",
       "8           0.408842                0.749188                0.407392   22  \n",
       "9           0.349971                0.436990                0.439276   28  "
      ]
     },
     "execution_count": 6,
     "metadata": {},
     "output_type": "execute_result"
    }
   ],
   "source": [
    "final_df.head(10)"
   ]
  },
  {
   "cell_type": "code",
   "execution_count": 161,
   "metadata": {
    "colab": {
     "base_uri": "https://localhost:8080/",
     "height": 241
    },
    "colab_type": "code",
    "id": "NRjJqENKUMks",
    "outputId": "17912be0-09b5-4808-ba38-dba9bc6c5688"
   },
   "outputs": [
    {
     "data": {
      "text/html": [
       "<div>\n",
       "<style scoped>\n",
       "    .dataframe tbody tr th:only-of-type {\n",
       "        vertical-align: middle;\n",
       "    }\n",
       "\n",
       "    .dataframe tbody tr th {\n",
       "        vertical-align: top;\n",
       "    }\n",
       "\n",
       "    .dataframe thead th {\n",
       "        text-align: right;\n",
       "    }\n",
       "</style>\n",
       "<table border=\"1\" class=\"dataframe\">\n",
       "  <thead>\n",
       "    <tr style=\"text-align: right;\">\n",
       "      <th></th>\n",
       "      <th>ID</th>\n",
       "      <th>Facial Index</th>\n",
       "      <th>Mandibular Index</th>\n",
       "      <th>Intercantal Index</th>\n",
       "      <th>Orbital Width Index</th>\n",
       "      <th>Eye Fissure Index</th>\n",
       "      <th>Vermilion Height Index</th>\n",
       "      <th>Mouth Face Width Index</th>\n",
       "      <th>AGE</th>\n",
       "    </tr>\n",
       "  </thead>\n",
       "  <tbody>\n",
       "    <tr>\n",
       "      <th>992</th>\n",
       "      <td>82</td>\n",
       "      <td>0.823877</td>\n",
       "      <td>0.400643</td>\n",
       "      <td>0.389182</td>\n",
       "      <td>0.799787</td>\n",
       "      <td>0.455590</td>\n",
       "      <td>0.469132</td>\n",
       "      <td>0.304340</td>\n",
       "      <td>3</td>\n",
       "    </tr>\n",
       "    <tr>\n",
       "      <th>993</th>\n",
       "      <td>82</td>\n",
       "      <td>0.956653</td>\n",
       "      <td>0.436934</td>\n",
       "      <td>0.390209</td>\n",
       "      <td>0.783629</td>\n",
       "      <td>0.394072</td>\n",
       "      <td>0.555210</td>\n",
       "      <td>0.398375</td>\n",
       "      <td>16</td>\n",
       "    </tr>\n",
       "    <tr>\n",
       "      <th>994</th>\n",
       "      <td>82</td>\n",
       "      <td>0.999093</td>\n",
       "      <td>0.510771</td>\n",
       "      <td>0.387691</td>\n",
       "      <td>0.752627</td>\n",
       "      <td>0.389192</td>\n",
       "      <td>0.440878</td>\n",
       "      <td>0.367898</td>\n",
       "      <td>18</td>\n",
       "    </tr>\n",
       "    <tr>\n",
       "      <th>995</th>\n",
       "      <td>82</td>\n",
       "      <td>0.961396</td>\n",
       "      <td>0.486345</td>\n",
       "      <td>0.373479</td>\n",
       "      <td>0.883768</td>\n",
       "      <td>0.357279</td>\n",
       "      <td>0.411729</td>\n",
       "      <td>0.388931</td>\n",
       "      <td>20</td>\n",
       "    </tr>\n",
       "    <tr>\n",
       "      <th>996</th>\n",
       "      <td>82</td>\n",
       "      <td>0.944901</td>\n",
       "      <td>0.469341</td>\n",
       "      <td>0.421650</td>\n",
       "      <td>0.657527</td>\n",
       "      <td>0.342256</td>\n",
       "      <td>0.299782</td>\n",
       "      <td>0.377414</td>\n",
       "      <td>21</td>\n",
       "    </tr>\n",
       "    <tr>\n",
       "      <th>997</th>\n",
       "      <td>82</td>\n",
       "      <td>0.971190</td>\n",
       "      <td>0.456241</td>\n",
       "      <td>0.431464</td>\n",
       "      <td>0.688562</td>\n",
       "      <td>0.362097</td>\n",
       "      <td>0.776495</td>\n",
       "      <td>0.421004</td>\n",
       "      <td>22</td>\n",
       "    </tr>\n",
       "    <tr>\n",
       "      <th>998</th>\n",
       "      <td>82</td>\n",
       "      <td>0.922055</td>\n",
       "      <td>0.457388</td>\n",
       "      <td>0.366031</td>\n",
       "      <td>0.807954</td>\n",
       "      <td>0.402890</td>\n",
       "      <td>0.800289</td>\n",
       "      <td>0.386978</td>\n",
       "      <td>23</td>\n",
       "    </tr>\n",
       "    <tr>\n",
       "      <th>999</th>\n",
       "      <td>82</td>\n",
       "      <td>0.948693</td>\n",
       "      <td>0.473651</td>\n",
       "      <td>0.409538</td>\n",
       "      <td>0.731037</td>\n",
       "      <td>0.290797</td>\n",
       "      <td>0.600109</td>\n",
       "      <td>0.465623</td>\n",
       "      <td>25</td>\n",
       "    </tr>\n",
       "    <tr>\n",
       "      <th>1000</th>\n",
       "      <td>82</td>\n",
       "      <td>0.914195</td>\n",
       "      <td>0.500786</td>\n",
       "      <td>0.416904</td>\n",
       "      <td>0.543606</td>\n",
       "      <td>0.480518</td>\n",
       "      <td>0.876548</td>\n",
       "      <td>0.394899</td>\n",
       "      <td>27</td>\n",
       "    </tr>\n",
       "    <tr>\n",
       "      <th>1001</th>\n",
       "      <td>82</td>\n",
       "      <td>0.915017</td>\n",
       "      <td>0.478165</td>\n",
       "      <td>0.404374</td>\n",
       "      <td>0.681841</td>\n",
       "      <td>0.316847</td>\n",
       "      <td>0.735635</td>\n",
       "      <td>0.450559</td>\n",
       "      <td>31</td>\n",
       "    </tr>\n",
       "  </tbody>\n",
       "</table>\n",
       "</div>"
      ],
      "text/plain": [
       "      ID  Facial Index  Mandibular Index  Intercantal Index  \\\n",
       "992   82      0.823877          0.400643           0.389182   \n",
       "993   82      0.956653          0.436934           0.390209   \n",
       "994   82      0.999093          0.510771           0.387691   \n",
       "995   82      0.961396          0.486345           0.373479   \n",
       "996   82      0.944901          0.469341           0.421650   \n",
       "997   82      0.971190          0.456241           0.431464   \n",
       "998   82      0.922055          0.457388           0.366031   \n",
       "999   82      0.948693          0.473651           0.409538   \n",
       "1000  82      0.914195          0.500786           0.416904   \n",
       "1001  82      0.915017          0.478165           0.404374   \n",
       "\n",
       "      Orbital Width Index  Eye Fissure Index  Vermilion Height Index  \\\n",
       "992              0.799787           0.455590                0.469132   \n",
       "993              0.783629           0.394072                0.555210   \n",
       "994              0.752627           0.389192                0.440878   \n",
       "995              0.883768           0.357279                0.411729   \n",
       "996              0.657527           0.342256                0.299782   \n",
       "997              0.688562           0.362097                0.776495   \n",
       "998              0.807954           0.402890                0.800289   \n",
       "999              0.731037           0.290797                0.600109   \n",
       "1000             0.543606           0.480518                0.876548   \n",
       "1001             0.681841           0.316847                0.735635   \n",
       "\n",
       "      Mouth Face Width Index  AGE  \n",
       "992                 0.304340    3  \n",
       "993                 0.398375   16  \n",
       "994                 0.367898   18  \n",
       "995                 0.388931   20  \n",
       "996                 0.377414   21  \n",
       "997                 0.421004   22  \n",
       "998                 0.386978   23  \n",
       "999                 0.465623   25  \n",
       "1000                0.394899   27  \n",
       "1001                0.450559   31  "
      ]
     },
     "execution_count": 161,
     "metadata": {},
     "output_type": "execute_result"
    }
   ],
   "source": [
    "final_df.tail(10)"
   ]
  },
  {
   "cell_type": "markdown",
   "metadata": {
    "colab_type": "text",
    "id": "WWFgHJxWwCJe"
   },
   "source": [
    "# Step-3 Removing un necessary columns\n",
    "#### We dont need the following face measurements as we will use only raw images\n",
    "##### removing Facial Index \tMandibular Index \tIntercantal Index \tOrbital Width Index \tEye Fissure Index \tVermilion Height Index \tMouth Face Width Index"
   ]
  },
  {
   "cell_type": "code",
   "execution_count": 7,
   "metadata": {
    "colab": {},
    "colab_type": "code",
    "id": "v-UDbu1bwJxC"
   },
   "outputs": [],
   "source": [
    "# removing the un necessary features\n",
    "final_df.drop(final_df.columns[[1,2,3,4,5,6,7]], axis = 1, inplace = True) "
   ]
  },
  {
   "cell_type": "code",
   "execution_count": 8,
   "metadata": {
    "colab": {
     "base_uri": "https://localhost:8080/",
     "height": 144
    },
    "colab_type": "code",
    "id": "8ffKKiJSwJnP",
    "outputId": "034c37e8-5ad0-449f-be90-e1fdbc6725a8"
   },
   "outputs": [
    {
     "data": {
      "text/html": [
       "<div>\n",
       "<style scoped>\n",
       "    .dataframe tbody tr th:only-of-type {\n",
       "        vertical-align: middle;\n",
       "    }\n",
       "\n",
       "    .dataframe tbody tr th {\n",
       "        vertical-align: top;\n",
       "    }\n",
       "\n",
       "    .dataframe thead th {\n",
       "        text-align: right;\n",
       "    }\n",
       "</style>\n",
       "<table border=\"1\" class=\"dataframe\">\n",
       "  <thead>\n",
       "    <tr style=\"text-align: right;\">\n",
       "      <th></th>\n",
       "      <th>ID</th>\n",
       "      <th>AGE</th>\n",
       "    </tr>\n",
       "  </thead>\n",
       "  <tbody>\n",
       "    <tr>\n",
       "      <th>0</th>\n",
       "      <td>1</td>\n",
       "      <td>2</td>\n",
       "    </tr>\n",
       "    <tr>\n",
       "      <th>1</th>\n",
       "      <td>1</td>\n",
       "      <td>5</td>\n",
       "    </tr>\n",
       "    <tr>\n",
       "      <th>2</th>\n",
       "      <td>1</td>\n",
       "      <td>8</td>\n",
       "    </tr>\n",
       "    <tr>\n",
       "      <th>3</th>\n",
       "      <td>1</td>\n",
       "      <td>10</td>\n",
       "    </tr>\n",
       "    <tr>\n",
       "      <th>4</th>\n",
       "      <td>1</td>\n",
       "      <td>14</td>\n",
       "    </tr>\n",
       "    <tr>\n",
       "      <th>5</th>\n",
       "      <td>1</td>\n",
       "      <td>16</td>\n",
       "    </tr>\n",
       "    <tr>\n",
       "      <th>6</th>\n",
       "      <td>1</td>\n",
       "      <td>18</td>\n",
       "    </tr>\n",
       "    <tr>\n",
       "      <th>7</th>\n",
       "      <td>1</td>\n",
       "      <td>19</td>\n",
       "    </tr>\n",
       "    <tr>\n",
       "      <th>8</th>\n",
       "      <td>1</td>\n",
       "      <td>22</td>\n",
       "    </tr>\n",
       "    <tr>\n",
       "      <th>9</th>\n",
       "      <td>1</td>\n",
       "      <td>28</td>\n",
       "    </tr>\n",
       "  </tbody>\n",
       "</table>\n",
       "</div>"
      ],
      "text/plain": [
       "   ID  AGE\n",
       "0   1    2\n",
       "1   1    5\n",
       "2   1    8\n",
       "3   1   10\n",
       "4   1   14\n",
       "5   1   16\n",
       "6   1   18\n",
       "7   1   19\n",
       "8   1   22\n",
       "9   1   28"
      ]
     },
     "execution_count": 8,
     "metadata": {},
     "output_type": "execute_result"
    }
   ],
   "source": [
    "final_df.head(10)"
   ]
  },
  {
   "cell_type": "code",
   "execution_count": 164,
   "metadata": {
    "colab": {
     "base_uri": "https://localhost:8080/",
     "height": 144
    },
    "colab_type": "code",
    "id": "m6ZEVBJHwJci",
    "outputId": "3b33e74d-235b-4386-d7ca-838745e1da83"
   },
   "outputs": [
    {
     "data": {
      "text/html": [
       "<div>\n",
       "<style scoped>\n",
       "    .dataframe tbody tr th:only-of-type {\n",
       "        vertical-align: middle;\n",
       "    }\n",
       "\n",
       "    .dataframe tbody tr th {\n",
       "        vertical-align: top;\n",
       "    }\n",
       "\n",
       "    .dataframe thead th {\n",
       "        text-align: right;\n",
       "    }\n",
       "</style>\n",
       "<table border=\"1\" class=\"dataframe\">\n",
       "  <thead>\n",
       "    <tr style=\"text-align: right;\">\n",
       "      <th></th>\n",
       "      <th>ID</th>\n",
       "      <th>AGE</th>\n",
       "    </tr>\n",
       "  </thead>\n",
       "  <tbody>\n",
       "    <tr>\n",
       "      <th>992</th>\n",
       "      <td>82</td>\n",
       "      <td>3</td>\n",
       "    </tr>\n",
       "    <tr>\n",
       "      <th>993</th>\n",
       "      <td>82</td>\n",
       "      <td>16</td>\n",
       "    </tr>\n",
       "    <tr>\n",
       "      <th>994</th>\n",
       "      <td>82</td>\n",
       "      <td>18</td>\n",
       "    </tr>\n",
       "    <tr>\n",
       "      <th>995</th>\n",
       "      <td>82</td>\n",
       "      <td>20</td>\n",
       "    </tr>\n",
       "    <tr>\n",
       "      <th>996</th>\n",
       "      <td>82</td>\n",
       "      <td>21</td>\n",
       "    </tr>\n",
       "    <tr>\n",
       "      <th>997</th>\n",
       "      <td>82</td>\n",
       "      <td>22</td>\n",
       "    </tr>\n",
       "    <tr>\n",
       "      <th>998</th>\n",
       "      <td>82</td>\n",
       "      <td>23</td>\n",
       "    </tr>\n",
       "    <tr>\n",
       "      <th>999</th>\n",
       "      <td>82</td>\n",
       "      <td>25</td>\n",
       "    </tr>\n",
       "    <tr>\n",
       "      <th>1000</th>\n",
       "      <td>82</td>\n",
       "      <td>27</td>\n",
       "    </tr>\n",
       "    <tr>\n",
       "      <th>1001</th>\n",
       "      <td>82</td>\n",
       "      <td>31</td>\n",
       "    </tr>\n",
       "  </tbody>\n",
       "</table>\n",
       "</div>"
      ],
      "text/plain": [
       "      ID  AGE\n",
       "992   82    3\n",
       "993   82   16\n",
       "994   82   18\n",
       "995   82   20\n",
       "996   82   21\n",
       "997   82   22\n",
       "998   82   23\n",
       "999   82   25\n",
       "1000  82   27\n",
       "1001  82   31"
      ]
     },
     "execution_count": 164,
     "metadata": {},
     "output_type": "execute_result"
    }
   ],
   "source": [
    "final_df.tail(10)"
   ]
  },
  {
   "cell_type": "markdown",
   "metadata": {
    "colab_type": "text",
    "id": "aFew8eQKwWl6"
   },
   "source": [
    "# Step-4 Displaying Class distribution of the given data"
   ]
  },
  {
   "cell_type": "code",
   "execution_count": 9,
   "metadata": {
    "colab": {
     "base_uri": "https://localhost:8080/",
     "height": 295
    },
    "colab_type": "code",
    "id": "CG5t16G8v0pb",
    "outputId": "a3472b39-dc4d-4fd8-b410-ee554ca0ada1"
   },
   "outputs": [
    {
     "data": {
      "image/png": "[encoded data removed]",
      "text/plain": [
       "<Figure size 432x288 with 1 Axes>"
      ]
     },
     "metadata": {
      "needs_background": "light"
     },
     "output_type": "display_data"
    }
   ],
   "source": [
    "classes=final_df[['ID']].values\n",
    "unique, counts = np.unique(classes, return_counts=True)\n",
    "plt.bar(unique,counts)\n",
    "plt.title('No of samples for each Class')\n",
    "plt.xlabel('82 Individual Classes')\n",
    "plt.ylabel('No of samples')\n",
    "plt.show()"
   ]
  },
  {
   "cell_type": "markdown",
   "metadata": {
    "colab_type": "text",
    "id": "WN0u68R2wrLP"
   },
   "source": [
    "# Step-5 One hot encoding of the target labels"
   ]
  },
  {
   "cell_type": "code",
   "execution_count": 201,
   "metadata": {
    "colab": {},
    "colab_type": "code",
    "id": "2NzIb03-wabR"
   },
   "outputs": [],
   "source": [
    "# use pd.concat to join the new columns with your original dataframe\n",
    "df_1 = pd.concat([final_df['ID'],pd.get_dummies(final_df['ID'], prefix='subject')],axis=1)"
   ]
  },
  {
   "cell_type": "markdown",
   "metadata": {},
   "source": [
    "### Saving the prepared data in csv format by the name of ' df_1.csv '"
   ]
  },
  {
   "cell_type": "code",
   "execution_count": 12,
   "metadata": {},
   "outputs": [],
   "source": [
    "#saving the above dataframe as csv\n",
    "df_1.to_csv(dir +'\\df_1.csv',mode = 'w', index=False)"
   ]
  },
  {
   "cell_type": "code",
   "execution_count": 7,
   "metadata": {
    "colab": {},
    "colab_type": "code",
    "id": "Fbs4npA_6nhJ"
   },
   "outputs": [],
   "source": [
    "df_1=pd.read_csv(dir +'/df_1.csv')"
   ]
  },
  {
   "cell_type": "code",
   "execution_count": 8,
   "metadata": {
    "colab": {
     "base_uri": "https://localhost:8080/",
     "height": 255
    },
    "colab_type": "code",
    "id": "338zvV0CwBKP",
    "outputId": "c71e64e1-808d-411e-cdc3-221721e68fce"
   },
   "outputs": [
    {
     "data": {
      "text/html": [
       "<div>\n",
       "<style scoped>\n",
       "    .dataframe tbody tr th:only-of-type {\n",
       "        vertical-align: middle;\n",
       "    }\n",
       "\n",
       "    .dataframe tbody tr th {\n",
       "        vertical-align: top;\n",
       "    }\n",
       "\n",
       "    .dataframe thead th {\n",
       "        text-align: right;\n",
       "    }\n",
       "</style>\n",
       "<table border=\"1\" class=\"dataframe\">\n",
       "  <thead>\n",
       "    <tr style=\"text-align: right;\">\n",
       "      <th></th>\n",
       "      <th>ID</th>\n",
       "      <th>subject_1</th>\n",
       "      <th>subject_2</th>\n",
       "      <th>subject_3</th>\n",
       "      <th>subject_4</th>\n",
       "      <th>subject_5</th>\n",
       "      <th>subject_6</th>\n",
       "      <th>subject_7</th>\n",
       "      <th>subject_8</th>\n",
       "      <th>subject_9</th>\n",
       "      <th>...</th>\n",
       "      <th>subject_73</th>\n",
       "      <th>subject_74</th>\n",
       "      <th>subject_75</th>\n",
       "      <th>subject_76</th>\n",
       "      <th>subject_77</th>\n",
       "      <th>subject_78</th>\n",
       "      <th>subject_79</th>\n",
       "      <th>subject_80</th>\n",
       "      <th>subject_81</th>\n",
       "      <th>subject_82</th>\n",
       "    </tr>\n",
       "  </thead>\n",
       "  <tbody>\n",
       "    <tr>\n",
       "      <th>0</th>\n",
       "      <td>1</td>\n",
       "      <td>1</td>\n",
       "      <td>0</td>\n",
       "      <td>0</td>\n",
       "      <td>0</td>\n",
       "      <td>0</td>\n",
       "      <td>0</td>\n",
       "      <td>0</td>\n",
       "      <td>0</td>\n",
       "      <td>0</td>\n",
       "      <td>...</td>\n",
       "      <td>0</td>\n",
       "      <td>0</td>\n",
       "      <td>0</td>\n",
       "      <td>0</td>\n",
       "      <td>0</td>\n",
       "      <td>0</td>\n",
       "      <td>0</td>\n",
       "      <td>0</td>\n",
       "      <td>0</td>\n",
       "      <td>0</td>\n",
       "    </tr>\n",
       "    <tr>\n",
       "      <th>1</th>\n",
       "      <td>1</td>\n",
       "      <td>1</td>\n",
       "      <td>0</td>\n",
       "      <td>0</td>\n",
       "      <td>0</td>\n",
       "      <td>0</td>\n",
       "      <td>0</td>\n",
       "      <td>0</td>\n",
       "      <td>0</td>\n",
       "      <td>0</td>\n",
       "      <td>...</td>\n",
       "      <td>0</td>\n",
       "      <td>0</td>\n",
       "      <td>0</td>\n",
       "      <td>0</td>\n",
       "      <td>0</td>\n",
       "      <td>0</td>\n",
       "      <td>0</td>\n",
       "      <td>0</td>\n",
       "      <td>0</td>\n",
       "      <td>0</td>\n",
       "    </tr>\n",
       "    <tr>\n",
       "      <th>2</th>\n",
       "      <td>1</td>\n",
       "      <td>1</td>\n",
       "      <td>0</td>\n",
       "      <td>0</td>\n",
       "      <td>0</td>\n",
       "      <td>0</td>\n",
       "      <td>0</td>\n",
       "      <td>0</td>\n",
       "      <td>0</td>\n",
       "      <td>0</td>\n",
       "      <td>...</td>\n",
       "      <td>0</td>\n",
       "      <td>0</td>\n",
       "      <td>0</td>\n",
       "      <td>0</td>\n",
       "      <td>0</td>\n",
       "      <td>0</td>\n",
       "      <td>0</td>\n",
       "      <td>0</td>\n",
       "      <td>0</td>\n",
       "      <td>0</td>\n",
       "    </tr>\n",
       "    <tr>\n",
       "      <th>3</th>\n",
       "      <td>1</td>\n",
       "      <td>1</td>\n",
       "      <td>0</td>\n",
       "      <td>0</td>\n",
       "      <td>0</td>\n",
       "      <td>0</td>\n",
       "      <td>0</td>\n",
       "      <td>0</td>\n",
       "      <td>0</td>\n",
       "      <td>0</td>\n",
       "      <td>...</td>\n",
       "      <td>0</td>\n",
       "      <td>0</td>\n",
       "      <td>0</td>\n",
       "      <td>0</td>\n",
       "      <td>0</td>\n",
       "      <td>0</td>\n",
       "      <td>0</td>\n",
       "      <td>0</td>\n",
       "      <td>0</td>\n",
       "      <td>0</td>\n",
       "    </tr>\n",
       "    <tr>\n",
       "      <th>4</th>\n",
       "      <td>1</td>\n",
       "      <td>1</td>\n",
       "      <td>0</td>\n",
       "      <td>0</td>\n",
       "      <td>0</td>\n",
       "      <td>0</td>\n",
       "      <td>0</td>\n",
       "      <td>0</td>\n",
       "      <td>0</td>\n",
       "      <td>0</td>\n",
       "      <td>...</td>\n",
       "      <td>0</td>\n",
       "      <td>0</td>\n",
       "      <td>0</td>\n",
       "      <td>0</td>\n",
       "      <td>0</td>\n",
       "      <td>0</td>\n",
       "      <td>0</td>\n",
       "      <td>0</td>\n",
       "      <td>0</td>\n",
       "      <td>0</td>\n",
       "    </tr>\n",
       "  </tbody>\n",
       "</table>\n",
       "<p>5 rows × 83 columns</p>\n",
       "</div>"
      ],
      "text/plain": [
       "   ID  subject_1  subject_2  subject_3  subject_4  subject_5  subject_6  \\\n",
       "0   1          1          0          0          0          0          0   \n",
       "1   1          1          0          0          0          0          0   \n",
       "2   1          1          0          0          0          0          0   \n",
       "3   1          1          0          0          0          0          0   \n",
       "4   1          1          0          0          0          0          0   \n",
       "\n",
       "   subject_7  subject_8  subject_9  ...  subject_73  subject_74  subject_75  \\\n",
       "0          0          0          0  ...           0           0           0   \n",
       "1          0          0          0  ...           0           0           0   \n",
       "2          0          0          0  ...           0           0           0   \n",
       "3          0          0          0  ...           0           0           0   \n",
       "4          0          0          0  ...           0           0           0   \n",
       "\n",
       "   subject_76  subject_77  subject_78  subject_79  subject_80  subject_81  \\\n",
       "0           0           0           0           0           0           0   \n",
       "1           0           0           0           0           0           0   \n",
       "2           0           0           0           0           0           0   \n",
       "3           0           0           0           0           0           0   \n",
       "4           0           0           0           0           0           0   \n",
       "\n",
       "   subject_82  \n",
       "0           0  \n",
       "1           0  \n",
       "2           0  \n",
       "3           0  \n",
       "4           0  \n",
       "\n",
       "[5 rows x 83 columns]"
      ]
     },
     "execution_count": 8,
     "metadata": {},
     "output_type": "execute_result"
    }
   ],
   "source": [
    "df_1.head()"
   ]
  },
  {
   "cell_type": "code",
   "execution_count": 205,
   "metadata": {
    "colab": {
     "base_uri": "https://localhost:8080/",
     "height": 255
    },
    "colab_type": "code",
    "id": "7CMoq_rcvRj-",
    "outputId": "1c1c712e-749a-465b-e1ab-9c8e9e7bebe5"
   },
   "outputs": [
    {
     "data": {
      "text/html": [
       "<div>\n",
       "<style scoped>\n",
       "    .dataframe tbody tr th:only-of-type {\n",
       "        vertical-align: middle;\n",
       "    }\n",
       "\n",
       "    .dataframe tbody tr th {\n",
       "        vertical-align: top;\n",
       "    }\n",
       "\n",
       "    .dataframe thead th {\n",
       "        text-align: right;\n",
       "    }\n",
       "</style>\n",
       "<table border=\"1\" class=\"dataframe\">\n",
       "  <thead>\n",
       "    <tr style=\"text-align: right;\">\n",
       "      <th></th>\n",
       "      <th>ID</th>\n",
       "      <th>subject_1</th>\n",
       "      <th>subject_2</th>\n",
       "      <th>subject_3</th>\n",
       "      <th>subject_4</th>\n",
       "      <th>subject_5</th>\n",
       "      <th>subject_6</th>\n",
       "      <th>subject_7</th>\n",
       "      <th>subject_8</th>\n",
       "      <th>subject_9</th>\n",
       "      <th>...</th>\n",
       "      <th>subject_73</th>\n",
       "      <th>subject_74</th>\n",
       "      <th>subject_75</th>\n",
       "      <th>subject_76</th>\n",
       "      <th>subject_77</th>\n",
       "      <th>subject_78</th>\n",
       "      <th>subject_79</th>\n",
       "      <th>subject_80</th>\n",
       "      <th>subject_81</th>\n",
       "      <th>subject_82</th>\n",
       "    </tr>\n",
       "  </thead>\n",
       "  <tbody>\n",
       "    <tr>\n",
       "      <th>997</th>\n",
       "      <td>82</td>\n",
       "      <td>0</td>\n",
       "      <td>0</td>\n",
       "      <td>0</td>\n",
       "      <td>0</td>\n",
       "      <td>0</td>\n",
       "      <td>0</td>\n",
       "      <td>0</td>\n",
       "      <td>0</td>\n",
       "      <td>0</td>\n",
       "      <td>...</td>\n",
       "      <td>0</td>\n",
       "      <td>0</td>\n",
       "      <td>0</td>\n",
       "      <td>0</td>\n",
       "      <td>0</td>\n",
       "      <td>0</td>\n",
       "      <td>0</td>\n",
       "      <td>0</td>\n",
       "      <td>0</td>\n",
       "      <td>1</td>\n",
       "    </tr>\n",
       "    <tr>\n",
       "      <th>998</th>\n",
       "      <td>82</td>\n",
       "      <td>0</td>\n",
       "      <td>0</td>\n",
       "      <td>0</td>\n",
       "      <td>0</td>\n",
       "      <td>0</td>\n",
       "      <td>0</td>\n",
       "      <td>0</td>\n",
       "      <td>0</td>\n",
       "      <td>0</td>\n",
       "      <td>...</td>\n",
       "      <td>0</td>\n",
       "      <td>0</td>\n",
       "      <td>0</td>\n",
       "      <td>0</td>\n",
       "      <td>0</td>\n",
       "      <td>0</td>\n",
       "      <td>0</td>\n",
       "      <td>0</td>\n",
       "      <td>0</td>\n",
       "      <td>1</td>\n",
       "    </tr>\n",
       "    <tr>\n",
       "      <th>999</th>\n",
       "      <td>82</td>\n",
       "      <td>0</td>\n",
       "      <td>0</td>\n",
       "      <td>0</td>\n",
       "      <td>0</td>\n",
       "      <td>0</td>\n",
       "      <td>0</td>\n",
       "      <td>0</td>\n",
       "      <td>0</td>\n",
       "      <td>0</td>\n",
       "      <td>...</td>\n",
       "      <td>0</td>\n",
       "      <td>0</td>\n",
       "      <td>0</td>\n",
       "      <td>0</td>\n",
       "      <td>0</td>\n",
       "      <td>0</td>\n",
       "      <td>0</td>\n",
       "      <td>0</td>\n",
       "      <td>0</td>\n",
       "      <td>1</td>\n",
       "    </tr>\n",
       "    <tr>\n",
       "      <th>1000</th>\n",
       "      <td>82</td>\n",
       "      <td>0</td>\n",
       "      <td>0</td>\n",
       "      <td>0</td>\n",
       "      <td>0</td>\n",
       "      <td>0</td>\n",
       "      <td>0</td>\n",
       "      <td>0</td>\n",
       "      <td>0</td>\n",
       "      <td>0</td>\n",
       "      <td>...</td>\n",
       "      <td>0</td>\n",
       "      <td>0</td>\n",
       "      <td>0</td>\n",
       "      <td>0</td>\n",
       "      <td>0</td>\n",
       "      <td>0</td>\n",
       "      <td>0</td>\n",
       "      <td>0</td>\n",
       "      <td>0</td>\n",
       "      <td>1</td>\n",
       "    </tr>\n",
       "    <tr>\n",
       "      <th>1001</th>\n",
       "      <td>82</td>\n",
       "      <td>0</td>\n",
       "      <td>0</td>\n",
       "      <td>0</td>\n",
       "      <td>0</td>\n",
       "      <td>0</td>\n",
       "      <td>0</td>\n",
       "      <td>0</td>\n",
       "      <td>0</td>\n",
       "      <td>0</td>\n",
       "      <td>...</td>\n",
       "      <td>0</td>\n",
       "      <td>0</td>\n",
       "      <td>0</td>\n",
       "      <td>0</td>\n",
       "      <td>0</td>\n",
       "      <td>0</td>\n",
       "      <td>0</td>\n",
       "      <td>0</td>\n",
       "      <td>0</td>\n",
       "      <td>1</td>\n",
       "    </tr>\n",
       "  </tbody>\n",
       "</table>\n",
       "<p>5 rows × 83 columns</p>\n",
       "</div>"
      ],
      "text/plain": [
       "      ID  subject_1  subject_2  subject_3  subject_4  subject_5  subject_6  \\\n",
       "997   82          0          0          0          0          0          0   \n",
       "998   82          0          0          0          0          0          0   \n",
       "999   82          0          0          0          0          0          0   \n",
       "1000  82          0          0          0          0          0          0   \n",
       "1001  82          0          0          0          0          0          0   \n",
       "\n",
       "      subject_7  subject_8  subject_9  ...  subject_73  subject_74  \\\n",
       "997           0          0          0  ...           0           0   \n",
       "998           0          0          0  ...           0           0   \n",
       "999           0          0          0  ...           0           0   \n",
       "1000          0          0          0  ...           0           0   \n",
       "1001          0          0          0  ...           0           0   \n",
       "\n",
       "      subject_75  subject_76  subject_77  subject_78  subject_79  subject_80  \\\n",
       "997            0           0           0           0           0           0   \n",
       "998            0           0           0           0           0           0   \n",
       "999            0           0           0           0           0           0   \n",
       "1000           0           0           0           0           0           0   \n",
       "1001           0           0           0           0           0           0   \n",
       "\n",
       "      subject_81  subject_82  \n",
       "997            0           1  \n",
       "998            0           1  \n",
       "999            0           1  \n",
       "1000           0           1  \n",
       "1001           0           1  \n",
       "\n",
       "[5 rows x 83 columns]"
      ]
     },
     "execution_count": 205,
     "metadata": {},
     "output_type": "execute_result"
    }
   ],
   "source": [
    "df_1.tail()"
   ]
  },
  {
   "cell_type": "markdown",
   "metadata": {
    "colab_type": "text",
    "id": "_ZEjS28FxKje"
   },
   "source": [
    "# Step-6 Adding original image names to the dataframe\n",
    "### Note : \"fg\" folder contains the 1002 images in .JPG format"
   ]
  },
  {
   "cell_type": "code",
   "execution_count": 206,
   "metadata": {
    "colab": {},
    "colab_type": "code",
    "id": "qsQCAcCExJYM"
   },
   "outputs": [],
   "source": [
    "# addng file names to the dataframe as a new columns called 'fiale_name\"\n",
    "image_names=[]\n",
    "for i in os.listdir(dir +'/fg'):\n",
    "    image_names.append(i)"
   ]
  },
  {
   "cell_type": "code",
   "execution_count": 207,
   "metadata": {
    "colab": {
     "base_uri": "https://localhost:8080/",
     "height": 35
    },
    "colab_type": "code",
    "id": "zt1FWRhj8Qfp",
    "outputId": "ee4603d1-091b-4733-fd5d-69af98db7ec6"
   },
   "outputs": [
    {
     "data": {
      "text/plain": [
       "1002"
      ]
     },
     "execution_count": 207,
     "metadata": {},
     "output_type": "execute_result"
    }
   ],
   "source": [
    "len(image_names)"
   ]
  },
  {
   "cell_type": "code",
   "execution_count": 208,
   "metadata": {
    "colab": {},
    "colab_type": "code",
    "id": "2qwQBDYjxn8x"
   },
   "outputs": [],
   "source": [
    "df_1['file_name']=image_names"
   ]
  },
  {
   "cell_type": "code",
   "execution_count": 209,
   "metadata": {
    "colab": {
     "base_uri": "https://localhost:8080/",
     "height": 255
    },
    "colab_type": "code",
    "id": "Umq5RFkxxr6X",
    "outputId": "1364ba74-0473-48fe-f26c-e279e8602624"
   },
   "outputs": [
    {
     "data": {
      "text/html": [
       "<div>\n",
       "<style scoped>\n",
       "    .dataframe tbody tr th:only-of-type {\n",
       "        vertical-align: middle;\n",
       "    }\n",
       "\n",
       "    .dataframe tbody tr th {\n",
       "        vertical-align: top;\n",
       "    }\n",
       "\n",
       "    .dataframe thead th {\n",
       "        text-align: right;\n",
       "    }\n",
       "</style>\n",
       "<table border=\"1\" class=\"dataframe\">\n",
       "  <thead>\n",
       "    <tr style=\"text-align: right;\">\n",
       "      <th></th>\n",
       "      <th>ID</th>\n",
       "      <th>subject_1</th>\n",
       "      <th>subject_2</th>\n",
       "      <th>subject_3</th>\n",
       "      <th>subject_4</th>\n",
       "      <th>subject_5</th>\n",
       "      <th>subject_6</th>\n",
       "      <th>subject_7</th>\n",
       "      <th>subject_8</th>\n",
       "      <th>subject_9</th>\n",
       "      <th>...</th>\n",
       "      <th>subject_74</th>\n",
       "      <th>subject_75</th>\n",
       "      <th>subject_76</th>\n",
       "      <th>subject_77</th>\n",
       "      <th>subject_78</th>\n",
       "      <th>subject_79</th>\n",
       "      <th>subject_80</th>\n",
       "      <th>subject_81</th>\n",
       "      <th>subject_82</th>\n",
       "      <th>file_name</th>\n",
       "    </tr>\n",
       "  </thead>\n",
       "  <tbody>\n",
       "    <tr>\n",
       "      <th>0</th>\n",
       "      <td>1</td>\n",
       "      <td>1</td>\n",
       "      <td>0</td>\n",
       "      <td>0</td>\n",
       "      <td>0</td>\n",
       "      <td>0</td>\n",
       "      <td>0</td>\n",
       "      <td>0</td>\n",
       "      <td>0</td>\n",
       "      <td>0</td>\n",
       "      <td>...</td>\n",
       "      <td>0</td>\n",
       "      <td>0</td>\n",
       "      <td>0</td>\n",
       "      <td>0</td>\n",
       "      <td>0</td>\n",
       "      <td>0</td>\n",
       "      <td>0</td>\n",
       "      <td>0</td>\n",
       "      <td>0</td>\n",
       "      <td>001A02.JPG</td>\n",
       "    </tr>\n",
       "    <tr>\n",
       "      <th>1</th>\n",
       "      <td>1</td>\n",
       "      <td>1</td>\n",
       "      <td>0</td>\n",
       "      <td>0</td>\n",
       "      <td>0</td>\n",
       "      <td>0</td>\n",
       "      <td>0</td>\n",
       "      <td>0</td>\n",
       "      <td>0</td>\n",
       "      <td>0</td>\n",
       "      <td>...</td>\n",
       "      <td>0</td>\n",
       "      <td>0</td>\n",
       "      <td>0</td>\n",
       "      <td>0</td>\n",
       "      <td>0</td>\n",
       "      <td>0</td>\n",
       "      <td>0</td>\n",
       "      <td>0</td>\n",
       "      <td>0</td>\n",
       "      <td>001A05.JPG</td>\n",
       "    </tr>\n",
       "    <tr>\n",
       "      <th>2</th>\n",
       "      <td>1</td>\n",
       "      <td>1</td>\n",
       "      <td>0</td>\n",
       "      <td>0</td>\n",
       "      <td>0</td>\n",
       "      <td>0</td>\n",
       "      <td>0</td>\n",
       "      <td>0</td>\n",
       "      <td>0</td>\n",
       "      <td>0</td>\n",
       "      <td>...</td>\n",
       "      <td>0</td>\n",
       "      <td>0</td>\n",
       "      <td>0</td>\n",
       "      <td>0</td>\n",
       "      <td>0</td>\n",
       "      <td>0</td>\n",
       "      <td>0</td>\n",
       "      <td>0</td>\n",
       "      <td>0</td>\n",
       "      <td>001A08.JPG</td>\n",
       "    </tr>\n",
       "    <tr>\n",
       "      <th>3</th>\n",
       "      <td>1</td>\n",
       "      <td>1</td>\n",
       "      <td>0</td>\n",
       "      <td>0</td>\n",
       "      <td>0</td>\n",
       "      <td>0</td>\n",
       "      <td>0</td>\n",
       "      <td>0</td>\n",
       "      <td>0</td>\n",
       "      <td>0</td>\n",
       "      <td>...</td>\n",
       "      <td>0</td>\n",
       "      <td>0</td>\n",
       "      <td>0</td>\n",
       "      <td>0</td>\n",
       "      <td>0</td>\n",
       "      <td>0</td>\n",
       "      <td>0</td>\n",
       "      <td>0</td>\n",
       "      <td>0</td>\n",
       "      <td>001A10.JPG</td>\n",
       "    </tr>\n",
       "    <tr>\n",
       "      <th>4</th>\n",
       "      <td>1</td>\n",
       "      <td>1</td>\n",
       "      <td>0</td>\n",
       "      <td>0</td>\n",
       "      <td>0</td>\n",
       "      <td>0</td>\n",
       "      <td>0</td>\n",
       "      <td>0</td>\n",
       "      <td>0</td>\n",
       "      <td>0</td>\n",
       "      <td>...</td>\n",
       "      <td>0</td>\n",
       "      <td>0</td>\n",
       "      <td>0</td>\n",
       "      <td>0</td>\n",
       "      <td>0</td>\n",
       "      <td>0</td>\n",
       "      <td>0</td>\n",
       "      <td>0</td>\n",
       "      <td>0</td>\n",
       "      <td>001A14.JPG</td>\n",
       "    </tr>\n",
       "  </tbody>\n",
       "</table>\n",
       "<p>5 rows × 84 columns</p>\n",
       "</div>"
      ],
      "text/plain": [
       "   ID  subject_1  subject_2  subject_3  subject_4  subject_5  subject_6  \\\n",
       "0   1          1          0          0          0          0          0   \n",
       "1   1          1          0          0          0          0          0   \n",
       "2   1          1          0          0          0          0          0   \n",
       "3   1          1          0          0          0          0          0   \n",
       "4   1          1          0          0          0          0          0   \n",
       "\n",
       "   subject_7  subject_8  subject_9  ...  subject_74  subject_75  subject_76  \\\n",
       "0          0          0          0  ...           0           0           0   \n",
       "1          0          0          0  ...           0           0           0   \n",
       "2          0          0          0  ...           0           0           0   \n",
       "3          0          0          0  ...           0           0           0   \n",
       "4          0          0          0  ...           0           0           0   \n",
       "\n",
       "   subject_77  subject_78  subject_79  subject_80  subject_81  subject_82  \\\n",
       "0           0           0           0           0           0           0   \n",
       "1           0           0           0           0           0           0   \n",
       "2           0           0           0           0           0           0   \n",
       "3           0           0           0           0           0           0   \n",
       "4           0           0           0           0           0           0   \n",
       "\n",
       "    file_name  \n",
       "0  001A02.JPG  \n",
       "1  001A05.JPG  \n",
       "2  001A08.JPG  \n",
       "3  001A10.JPG  \n",
       "4  001A14.JPG  \n",
       "\n",
       "[5 rows x 84 columns]"
      ]
     },
     "execution_count": 209,
     "metadata": {},
     "output_type": "execute_result"
    }
   ],
   "source": [
    "df_1.head()"
   ]
  },
  {
   "cell_type": "code",
   "execution_count": 210,
   "metadata": {},
   "outputs": [
    {
     "data": {
      "text/html": [
       "<div>\n",
       "<style scoped>\n",
       "    .dataframe tbody tr th:only-of-type {\n",
       "        vertical-align: middle;\n",
       "    }\n",
       "\n",
       "    .dataframe tbody tr th {\n",
       "        vertical-align: top;\n",
       "    }\n",
       "\n",
       "    .dataframe thead th {\n",
       "        text-align: right;\n",
       "    }\n",
       "</style>\n",
       "<table border=\"1\" class=\"dataframe\">\n",
       "  <thead>\n",
       "    <tr style=\"text-align: right;\">\n",
       "      <th></th>\n",
       "      <th>ID</th>\n",
       "      <th>subject_1</th>\n",
       "      <th>subject_2</th>\n",
       "      <th>subject_3</th>\n",
       "      <th>subject_4</th>\n",
       "      <th>subject_5</th>\n",
       "      <th>subject_6</th>\n",
       "      <th>subject_7</th>\n",
       "      <th>subject_8</th>\n",
       "      <th>subject_9</th>\n",
       "      <th>...</th>\n",
       "      <th>subject_74</th>\n",
       "      <th>subject_75</th>\n",
       "      <th>subject_76</th>\n",
       "      <th>subject_77</th>\n",
       "      <th>subject_78</th>\n",
       "      <th>subject_79</th>\n",
       "      <th>subject_80</th>\n",
       "      <th>subject_81</th>\n",
       "      <th>subject_82</th>\n",
       "      <th>file_name</th>\n",
       "    </tr>\n",
       "  </thead>\n",
       "  <tbody>\n",
       "    <tr>\n",
       "      <th>997</th>\n",
       "      <td>82</td>\n",
       "      <td>0</td>\n",
       "      <td>0</td>\n",
       "      <td>0</td>\n",
       "      <td>0</td>\n",
       "      <td>0</td>\n",
       "      <td>0</td>\n",
       "      <td>0</td>\n",
       "      <td>0</td>\n",
       "      <td>0</td>\n",
       "      <td>...</td>\n",
       "      <td>0</td>\n",
       "      <td>0</td>\n",
       "      <td>0</td>\n",
       "      <td>0</td>\n",
       "      <td>0</td>\n",
       "      <td>0</td>\n",
       "      <td>0</td>\n",
       "      <td>0</td>\n",
       "      <td>1</td>\n",
       "      <td>082A22.JPG</td>\n",
       "    </tr>\n",
       "    <tr>\n",
       "      <th>998</th>\n",
       "      <td>82</td>\n",
       "      <td>0</td>\n",
       "      <td>0</td>\n",
       "      <td>0</td>\n",
       "      <td>0</td>\n",
       "      <td>0</td>\n",
       "      <td>0</td>\n",
       "      <td>0</td>\n",
       "      <td>0</td>\n",
       "      <td>0</td>\n",
       "      <td>...</td>\n",
       "      <td>0</td>\n",
       "      <td>0</td>\n",
       "      <td>0</td>\n",
       "      <td>0</td>\n",
       "      <td>0</td>\n",
       "      <td>0</td>\n",
       "      <td>0</td>\n",
       "      <td>0</td>\n",
       "      <td>1</td>\n",
       "      <td>082A23.JPG</td>\n",
       "    </tr>\n",
       "    <tr>\n",
       "      <th>999</th>\n",
       "      <td>82</td>\n",
       "      <td>0</td>\n",
       "      <td>0</td>\n",
       "      <td>0</td>\n",
       "      <td>0</td>\n",
       "      <td>0</td>\n",
       "      <td>0</td>\n",
       "      <td>0</td>\n",
       "      <td>0</td>\n",
       "      <td>0</td>\n",
       "      <td>...</td>\n",
       "      <td>0</td>\n",
       "      <td>0</td>\n",
       "      <td>0</td>\n",
       "      <td>0</td>\n",
       "      <td>0</td>\n",
       "      <td>0</td>\n",
       "      <td>0</td>\n",
       "      <td>0</td>\n",
       "      <td>1</td>\n",
       "      <td>082A25.JPG</td>\n",
       "    </tr>\n",
       "    <tr>\n",
       "      <th>1000</th>\n",
       "      <td>82</td>\n",
       "      <td>0</td>\n",
       "      <td>0</td>\n",
       "      <td>0</td>\n",
       "      <td>0</td>\n",
       "      <td>0</td>\n",
       "      <td>0</td>\n",
       "      <td>0</td>\n",
       "      <td>0</td>\n",
       "      <td>0</td>\n",
       "      <td>...</td>\n",
       "      <td>0</td>\n",
       "      <td>0</td>\n",
       "      <td>0</td>\n",
       "      <td>0</td>\n",
       "      <td>0</td>\n",
       "      <td>0</td>\n",
       "      <td>0</td>\n",
       "      <td>0</td>\n",
       "      <td>1</td>\n",
       "      <td>082A27.JPG</td>\n",
       "    </tr>\n",
       "    <tr>\n",
       "      <th>1001</th>\n",
       "      <td>82</td>\n",
       "      <td>0</td>\n",
       "      <td>0</td>\n",
       "      <td>0</td>\n",
       "      <td>0</td>\n",
       "      <td>0</td>\n",
       "      <td>0</td>\n",
       "      <td>0</td>\n",
       "      <td>0</td>\n",
       "      <td>0</td>\n",
       "      <td>...</td>\n",
       "      <td>0</td>\n",
       "      <td>0</td>\n",
       "      <td>0</td>\n",
       "      <td>0</td>\n",
       "      <td>0</td>\n",
       "      <td>0</td>\n",
       "      <td>0</td>\n",
       "      <td>0</td>\n",
       "      <td>1</td>\n",
       "      <td>082A31.JPG</td>\n",
       "    </tr>\n",
       "  </tbody>\n",
       "</table>\n",
       "<p>5 rows × 84 columns</p>\n",
       "</div>"
      ],
      "text/plain": [
       "      ID  subject_1  subject_2  subject_3  subject_4  subject_5  subject_6  \\\n",
       "997   82          0          0          0          0          0          0   \n",
       "998   82          0          0          0          0          0          0   \n",
       "999   82          0          0          0          0          0          0   \n",
       "1000  82          0          0          0          0          0          0   \n",
       "1001  82          0          0          0          0          0          0   \n",
       "\n",
       "      subject_7  subject_8  subject_9  ...  subject_74  subject_75  \\\n",
       "997           0          0          0  ...           0           0   \n",
       "998           0          0          0  ...           0           0   \n",
       "999           0          0          0  ...           0           0   \n",
       "1000          0          0          0  ...           0           0   \n",
       "1001          0          0          0  ...           0           0   \n",
       "\n",
       "      subject_76  subject_77  subject_78  subject_79  subject_80  subject_81  \\\n",
       "997            0           0           0           0           0           0   \n",
       "998            0           0           0           0           0           0   \n",
       "999            0           0           0           0           0           0   \n",
       "1000           0           0           0           0           0           0   \n",
       "1001           0           0           0           0           0           0   \n",
       "\n",
       "      subject_82   file_name  \n",
       "997            1  082A22.JPG  \n",
       "998            1  082A23.JPG  \n",
       "999            1  082A25.JPG  \n",
       "1000           1  082A27.JPG  \n",
       "1001           1  082A31.JPG  \n",
       "\n",
       "[5 rows x 84 columns]"
      ]
     },
     "execution_count": 210,
     "metadata": {},
     "output_type": "execute_result"
    }
   ],
   "source": [
    "df_1.tail()"
   ]
  },
  {
   "cell_type": "code",
   "execution_count": 211,
   "metadata": {
    "colab": {},
    "colab_type": "code",
    "id": "8PD-5CvD9IYi"
   },
   "outputs": [],
   "source": [
    "df_1['file_name'] = df_1['file_name'].sort_values(ascending=True).values"
   ]
  },
  {
   "cell_type": "code",
   "execution_count": 213,
   "metadata": {},
   "outputs": [
    {
     "data": {
      "text/html": [
       "<div>\n",
       "<style scoped>\n",
       "    .dataframe tbody tr th:only-of-type {\n",
       "        vertical-align: middle;\n",
       "    }\n",
       "\n",
       "    .dataframe tbody tr th {\n",
       "        vertical-align: top;\n",
       "    }\n",
       "\n",
       "    .dataframe thead th {\n",
       "        text-align: right;\n",
       "    }\n",
       "</style>\n",
       "<table border=\"1\" class=\"dataframe\">\n",
       "  <thead>\n",
       "    <tr style=\"text-align: right;\">\n",
       "      <th></th>\n",
       "      <th>ID</th>\n",
       "      <th>subject_1</th>\n",
       "      <th>subject_2</th>\n",
       "      <th>subject_3</th>\n",
       "      <th>subject_4</th>\n",
       "      <th>subject_5</th>\n",
       "      <th>subject_6</th>\n",
       "      <th>subject_7</th>\n",
       "      <th>subject_8</th>\n",
       "      <th>subject_9</th>\n",
       "      <th>...</th>\n",
       "      <th>subject_74</th>\n",
       "      <th>subject_75</th>\n",
       "      <th>subject_76</th>\n",
       "      <th>subject_77</th>\n",
       "      <th>subject_78</th>\n",
       "      <th>subject_79</th>\n",
       "      <th>subject_80</th>\n",
       "      <th>subject_81</th>\n",
       "      <th>subject_82</th>\n",
       "      <th>file_name</th>\n",
       "    </tr>\n",
       "  </thead>\n",
       "  <tbody>\n",
       "    <tr>\n",
       "      <th>0</th>\n",
       "      <td>1</td>\n",
       "      <td>1</td>\n",
       "      <td>0</td>\n",
       "      <td>0</td>\n",
       "      <td>0</td>\n",
       "      <td>0</td>\n",
       "      <td>0</td>\n",
       "      <td>0</td>\n",
       "      <td>0</td>\n",
       "      <td>0</td>\n",
       "      <td>...</td>\n",
       "      <td>0</td>\n",
       "      <td>0</td>\n",
       "      <td>0</td>\n",
       "      <td>0</td>\n",
       "      <td>0</td>\n",
       "      <td>0</td>\n",
       "      <td>0</td>\n",
       "      <td>0</td>\n",
       "      <td>0</td>\n",
       "      <td>001A02.JPG</td>\n",
       "    </tr>\n",
       "    <tr>\n",
       "      <th>1</th>\n",
       "      <td>1</td>\n",
       "      <td>1</td>\n",
       "      <td>0</td>\n",
       "      <td>0</td>\n",
       "      <td>0</td>\n",
       "      <td>0</td>\n",
       "      <td>0</td>\n",
       "      <td>0</td>\n",
       "      <td>0</td>\n",
       "      <td>0</td>\n",
       "      <td>...</td>\n",
       "      <td>0</td>\n",
       "      <td>0</td>\n",
       "      <td>0</td>\n",
       "      <td>0</td>\n",
       "      <td>0</td>\n",
       "      <td>0</td>\n",
       "      <td>0</td>\n",
       "      <td>0</td>\n",
       "      <td>0</td>\n",
       "      <td>001A05.JPG</td>\n",
       "    </tr>\n",
       "    <tr>\n",
       "      <th>2</th>\n",
       "      <td>1</td>\n",
       "      <td>1</td>\n",
       "      <td>0</td>\n",
       "      <td>0</td>\n",
       "      <td>0</td>\n",
       "      <td>0</td>\n",
       "      <td>0</td>\n",
       "      <td>0</td>\n",
       "      <td>0</td>\n",
       "      <td>0</td>\n",
       "      <td>...</td>\n",
       "      <td>0</td>\n",
       "      <td>0</td>\n",
       "      <td>0</td>\n",
       "      <td>0</td>\n",
       "      <td>0</td>\n",
       "      <td>0</td>\n",
       "      <td>0</td>\n",
       "      <td>0</td>\n",
       "      <td>0</td>\n",
       "      <td>001A08.JPG</td>\n",
       "    </tr>\n",
       "    <tr>\n",
       "      <th>3</th>\n",
       "      <td>1</td>\n",
       "      <td>1</td>\n",
       "      <td>0</td>\n",
       "      <td>0</td>\n",
       "      <td>0</td>\n",
       "      <td>0</td>\n",
       "      <td>0</td>\n",
       "      <td>0</td>\n",
       "      <td>0</td>\n",
       "      <td>0</td>\n",
       "      <td>...</td>\n",
       "      <td>0</td>\n",
       "      <td>0</td>\n",
       "      <td>0</td>\n",
       "      <td>0</td>\n",
       "      <td>0</td>\n",
       "      <td>0</td>\n",
       "      <td>0</td>\n",
       "      <td>0</td>\n",
       "      <td>0</td>\n",
       "      <td>001A10.JPG</td>\n",
       "    </tr>\n",
       "    <tr>\n",
       "      <th>4</th>\n",
       "      <td>1</td>\n",
       "      <td>1</td>\n",
       "      <td>0</td>\n",
       "      <td>0</td>\n",
       "      <td>0</td>\n",
       "      <td>0</td>\n",
       "      <td>0</td>\n",
       "      <td>0</td>\n",
       "      <td>0</td>\n",
       "      <td>0</td>\n",
       "      <td>...</td>\n",
       "      <td>0</td>\n",
       "      <td>0</td>\n",
       "      <td>0</td>\n",
       "      <td>0</td>\n",
       "      <td>0</td>\n",
       "      <td>0</td>\n",
       "      <td>0</td>\n",
       "      <td>0</td>\n",
       "      <td>0</td>\n",
       "      <td>001A14.JPG</td>\n",
       "    </tr>\n",
       "  </tbody>\n",
       "</table>\n",
       "<p>5 rows × 84 columns</p>\n",
       "</div>"
      ],
      "text/plain": [
       "   ID  subject_1  subject_2  subject_3  subject_4  subject_5  subject_6  \\\n",
       "0   1          1          0          0          0          0          0   \n",
       "1   1          1          0          0          0          0          0   \n",
       "2   1          1          0          0          0          0          0   \n",
       "3   1          1          0          0          0          0          0   \n",
       "4   1          1          0          0          0          0          0   \n",
       "\n",
       "   subject_7  subject_8  subject_9  ...  subject_74  subject_75  subject_76  \\\n",
       "0          0          0          0  ...           0           0           0   \n",
       "1          0          0          0  ...           0           0           0   \n",
       "2          0          0          0  ...           0           0           0   \n",
       "3          0          0          0  ...           0           0           0   \n",
       "4          0          0          0  ...           0           0           0   \n",
       "\n",
       "   subject_77  subject_78  subject_79  subject_80  subject_81  subject_82  \\\n",
       "0           0           0           0           0           0           0   \n",
       "1           0           0           0           0           0           0   \n",
       "2           0           0           0           0           0           0   \n",
       "3           0           0           0           0           0           0   \n",
       "4           0           0           0           0           0           0   \n",
       "\n",
       "    file_name  \n",
       "0  001A02.JPG  \n",
       "1  001A05.JPG  \n",
       "2  001A08.JPG  \n",
       "3  001A10.JPG  \n",
       "4  001A14.JPG  \n",
       "\n",
       "[5 rows x 84 columns]"
      ]
     },
     "execution_count": 213,
     "metadata": {},
     "output_type": "execute_result"
    }
   ],
   "source": [
    "df_1.head()"
   ]
  },
  {
   "cell_type": "code",
   "execution_count": 212,
   "metadata": {
    "colab": {
     "base_uri": "https://localhost:8080/",
     "height": 726
    },
    "colab_type": "code",
    "id": "a7vhv2xOxvS1",
    "outputId": "dbf47b46-47a1-4553-f420-4791ae706f09"
   },
   "outputs": [
    {
     "data": {
      "text/html": [
       "<div>\n",
       "<style scoped>\n",
       "    .dataframe tbody tr th:only-of-type {\n",
       "        vertical-align: middle;\n",
       "    }\n",
       "\n",
       "    .dataframe tbody tr th {\n",
       "        vertical-align: top;\n",
       "    }\n",
       "\n",
       "    .dataframe thead th {\n",
       "        text-align: right;\n",
       "    }\n",
       "</style>\n",
       "<table border=\"1\" class=\"dataframe\">\n",
       "  <thead>\n",
       "    <tr style=\"text-align: right;\">\n",
       "      <th></th>\n",
       "      <th>ID</th>\n",
       "      <th>subject_1</th>\n",
       "      <th>subject_2</th>\n",
       "      <th>subject_3</th>\n",
       "      <th>subject_4</th>\n",
       "      <th>subject_5</th>\n",
       "      <th>subject_6</th>\n",
       "      <th>subject_7</th>\n",
       "      <th>subject_8</th>\n",
       "      <th>subject_9</th>\n",
       "      <th>...</th>\n",
       "      <th>subject_74</th>\n",
       "      <th>subject_75</th>\n",
       "      <th>subject_76</th>\n",
       "      <th>subject_77</th>\n",
       "      <th>subject_78</th>\n",
       "      <th>subject_79</th>\n",
       "      <th>subject_80</th>\n",
       "      <th>subject_81</th>\n",
       "      <th>subject_82</th>\n",
       "      <th>file_name</th>\n",
       "    </tr>\n",
       "  </thead>\n",
       "  <tbody>\n",
       "    <tr>\n",
       "      <th>997</th>\n",
       "      <td>82</td>\n",
       "      <td>0</td>\n",
       "      <td>0</td>\n",
       "      <td>0</td>\n",
       "      <td>0</td>\n",
       "      <td>0</td>\n",
       "      <td>0</td>\n",
       "      <td>0</td>\n",
       "      <td>0</td>\n",
       "      <td>0</td>\n",
       "      <td>...</td>\n",
       "      <td>0</td>\n",
       "      <td>0</td>\n",
       "      <td>0</td>\n",
       "      <td>0</td>\n",
       "      <td>0</td>\n",
       "      <td>0</td>\n",
       "      <td>0</td>\n",
       "      <td>0</td>\n",
       "      <td>1</td>\n",
       "      <td>082A22.JPG</td>\n",
       "    </tr>\n",
       "    <tr>\n",
       "      <th>998</th>\n",
       "      <td>82</td>\n",
       "      <td>0</td>\n",
       "      <td>0</td>\n",
       "      <td>0</td>\n",
       "      <td>0</td>\n",
       "      <td>0</td>\n",
       "      <td>0</td>\n",
       "      <td>0</td>\n",
       "      <td>0</td>\n",
       "      <td>0</td>\n",
       "      <td>...</td>\n",
       "      <td>0</td>\n",
       "      <td>0</td>\n",
       "      <td>0</td>\n",
       "      <td>0</td>\n",
       "      <td>0</td>\n",
       "      <td>0</td>\n",
       "      <td>0</td>\n",
       "      <td>0</td>\n",
       "      <td>1</td>\n",
       "      <td>082A23.JPG</td>\n",
       "    </tr>\n",
       "    <tr>\n",
       "      <th>999</th>\n",
       "      <td>82</td>\n",
       "      <td>0</td>\n",
       "      <td>0</td>\n",
       "      <td>0</td>\n",
       "      <td>0</td>\n",
       "      <td>0</td>\n",
       "      <td>0</td>\n",
       "      <td>0</td>\n",
       "      <td>0</td>\n",
       "      <td>0</td>\n",
       "      <td>...</td>\n",
       "      <td>0</td>\n",
       "      <td>0</td>\n",
       "      <td>0</td>\n",
       "      <td>0</td>\n",
       "      <td>0</td>\n",
       "      <td>0</td>\n",
       "      <td>0</td>\n",
       "      <td>0</td>\n",
       "      <td>1</td>\n",
       "      <td>082A25.JPG</td>\n",
       "    </tr>\n",
       "    <tr>\n",
       "      <th>1000</th>\n",
       "      <td>82</td>\n",
       "      <td>0</td>\n",
       "      <td>0</td>\n",
       "      <td>0</td>\n",
       "      <td>0</td>\n",
       "      <td>0</td>\n",
       "      <td>0</td>\n",
       "      <td>0</td>\n",
       "      <td>0</td>\n",
       "      <td>0</td>\n",
       "      <td>...</td>\n",
       "      <td>0</td>\n",
       "      <td>0</td>\n",
       "      <td>0</td>\n",
       "      <td>0</td>\n",
       "      <td>0</td>\n",
       "      <td>0</td>\n",
       "      <td>0</td>\n",
       "      <td>0</td>\n",
       "      <td>1</td>\n",
       "      <td>082A27.JPG</td>\n",
       "    </tr>\n",
       "    <tr>\n",
       "      <th>1001</th>\n",
       "      <td>82</td>\n",
       "      <td>0</td>\n",
       "      <td>0</td>\n",
       "      <td>0</td>\n",
       "      <td>0</td>\n",
       "      <td>0</td>\n",
       "      <td>0</td>\n",
       "      <td>0</td>\n",
       "      <td>0</td>\n",
       "      <td>0</td>\n",
       "      <td>...</td>\n",
       "      <td>0</td>\n",
       "      <td>0</td>\n",
       "      <td>0</td>\n",
       "      <td>0</td>\n",
       "      <td>0</td>\n",
       "      <td>0</td>\n",
       "      <td>0</td>\n",
       "      <td>0</td>\n",
       "      <td>1</td>\n",
       "      <td>082A31.JPG</td>\n",
       "    </tr>\n",
       "  </tbody>\n",
       "</table>\n",
       "<p>5 rows × 84 columns</p>\n",
       "</div>"
      ],
      "text/plain": [
       "      ID  subject_1  subject_2  subject_3  subject_4  subject_5  subject_6  \\\n",
       "997   82          0          0          0          0          0          0   \n",
       "998   82          0          0          0          0          0          0   \n",
       "999   82          0          0          0          0          0          0   \n",
       "1000  82          0          0          0          0          0          0   \n",
       "1001  82          0          0          0          0          0          0   \n",
       "\n",
       "      subject_7  subject_8  subject_9  ...  subject_74  subject_75  \\\n",
       "997           0          0          0  ...           0           0   \n",
       "998           0          0          0  ...           0           0   \n",
       "999           0          0          0  ...           0           0   \n",
       "1000          0          0          0  ...           0           0   \n",
       "1001          0          0          0  ...           0           0   \n",
       "\n",
       "      subject_76  subject_77  subject_78  subject_79  subject_80  subject_81  \\\n",
       "997            0           0           0           0           0           0   \n",
       "998            0           0           0           0           0           0   \n",
       "999            0           0           0           0           0           0   \n",
       "1000           0           0           0           0           0           0   \n",
       "1001           0           0           0           0           0           0   \n",
       "\n",
       "      subject_82   file_name  \n",
       "997            1  082A22.JPG  \n",
       "998            1  082A23.JPG  \n",
       "999            1  082A25.JPG  \n",
       "1000           1  082A27.JPG  \n",
       "1001           1  082A31.JPG  \n",
       "\n",
       "[5 rows x 84 columns]"
      ]
     },
     "execution_count": 212,
     "metadata": {},
     "output_type": "execute_result"
    }
   ],
   "source": [
    "df_1.tail()"
   ]
  },
  {
   "cell_type": "markdown",
   "metadata": {},
   "source": [
    "### Saving the prepared data in csv format by the name of ' df_2.csv ' "
   ]
  },
  {
   "cell_type": "code",
   "execution_count": 214,
   "metadata": {
    "colab": {},
    "colab_type": "code",
    "id": "C39YxTYOx2RV"
   },
   "outputs": [],
   "source": [
    "#saving the above dataframe as csv\n",
    "df_1.to_csv(dir +'\\df_2.csv',mode = 'w', index=False)"
   ]
  },
  {
   "cell_type": "code",
   "execution_count": 11,
   "metadata": {},
   "outputs": [
    {
     "data": {
      "text/html": [
       "<div>\n",
       "<style scoped>\n",
       "    .dataframe tbody tr th:only-of-type {\n",
       "        vertical-align: middle;\n",
       "    }\n",
       "\n",
       "    .dataframe tbody tr th {\n",
       "        vertical-align: top;\n",
       "    }\n",
       "\n",
       "    .dataframe thead th {\n",
       "        text-align: right;\n",
       "    }\n",
       "</style>\n",
       "<table border=\"1\" class=\"dataframe\">\n",
       "  <thead>\n",
       "    <tr style=\"text-align: right;\">\n",
       "      <th></th>\n",
       "      <th>ID</th>\n",
       "      <th>subject_1</th>\n",
       "      <th>subject_2</th>\n",
       "      <th>subject_3</th>\n",
       "      <th>subject_4</th>\n",
       "      <th>subject_5</th>\n",
       "      <th>subject_6</th>\n",
       "      <th>subject_7</th>\n",
       "      <th>subject_8</th>\n",
       "      <th>subject_9</th>\n",
       "      <th>...</th>\n",
       "      <th>subject_74</th>\n",
       "      <th>subject_75</th>\n",
       "      <th>subject_76</th>\n",
       "      <th>subject_77</th>\n",
       "      <th>subject_78</th>\n",
       "      <th>subject_79</th>\n",
       "      <th>subject_80</th>\n",
       "      <th>subject_81</th>\n",
       "      <th>subject_82</th>\n",
       "      <th>file_name</th>\n",
       "    </tr>\n",
       "  </thead>\n",
       "  <tbody>\n",
       "    <tr>\n",
       "      <th>0</th>\n",
       "      <td>1</td>\n",
       "      <td>1</td>\n",
       "      <td>0</td>\n",
       "      <td>0</td>\n",
       "      <td>0</td>\n",
       "      <td>0</td>\n",
       "      <td>0</td>\n",
       "      <td>0</td>\n",
       "      <td>0</td>\n",
       "      <td>0</td>\n",
       "      <td>...</td>\n",
       "      <td>0</td>\n",
       "      <td>0</td>\n",
       "      <td>0</td>\n",
       "      <td>0</td>\n",
       "      <td>0</td>\n",
       "      <td>0</td>\n",
       "      <td>0</td>\n",
       "      <td>0</td>\n",
       "      <td>0</td>\n",
       "      <td>001A02.JPG</td>\n",
       "    </tr>\n",
       "    <tr>\n",
       "      <th>1</th>\n",
       "      <td>1</td>\n",
       "      <td>1</td>\n",
       "      <td>0</td>\n",
       "      <td>0</td>\n",
       "      <td>0</td>\n",
       "      <td>0</td>\n",
       "      <td>0</td>\n",
       "      <td>0</td>\n",
       "      <td>0</td>\n",
       "      <td>0</td>\n",
       "      <td>...</td>\n",
       "      <td>0</td>\n",
       "      <td>0</td>\n",
       "      <td>0</td>\n",
       "      <td>0</td>\n",
       "      <td>0</td>\n",
       "      <td>0</td>\n",
       "      <td>0</td>\n",
       "      <td>0</td>\n",
       "      <td>0</td>\n",
       "      <td>001A05.JPG</td>\n",
       "    </tr>\n",
       "    <tr>\n",
       "      <th>2</th>\n",
       "      <td>1</td>\n",
       "      <td>1</td>\n",
       "      <td>0</td>\n",
       "      <td>0</td>\n",
       "      <td>0</td>\n",
       "      <td>0</td>\n",
       "      <td>0</td>\n",
       "      <td>0</td>\n",
       "      <td>0</td>\n",
       "      <td>0</td>\n",
       "      <td>...</td>\n",
       "      <td>0</td>\n",
       "      <td>0</td>\n",
       "      <td>0</td>\n",
       "      <td>0</td>\n",
       "      <td>0</td>\n",
       "      <td>0</td>\n",
       "      <td>0</td>\n",
       "      <td>0</td>\n",
       "      <td>0</td>\n",
       "      <td>001A08.JPG</td>\n",
       "    </tr>\n",
       "    <tr>\n",
       "      <th>3</th>\n",
       "      <td>1</td>\n",
       "      <td>1</td>\n",
       "      <td>0</td>\n",
       "      <td>0</td>\n",
       "      <td>0</td>\n",
       "      <td>0</td>\n",
       "      <td>0</td>\n",
       "      <td>0</td>\n",
       "      <td>0</td>\n",
       "      <td>0</td>\n",
       "      <td>...</td>\n",
       "      <td>0</td>\n",
       "      <td>0</td>\n",
       "      <td>0</td>\n",
       "      <td>0</td>\n",
       "      <td>0</td>\n",
       "      <td>0</td>\n",
       "      <td>0</td>\n",
       "      <td>0</td>\n",
       "      <td>0</td>\n",
       "      <td>001A10.JPG</td>\n",
       "    </tr>\n",
       "    <tr>\n",
       "      <th>4</th>\n",
       "      <td>1</td>\n",
       "      <td>1</td>\n",
       "      <td>0</td>\n",
       "      <td>0</td>\n",
       "      <td>0</td>\n",
       "      <td>0</td>\n",
       "      <td>0</td>\n",
       "      <td>0</td>\n",
       "      <td>0</td>\n",
       "      <td>0</td>\n",
       "      <td>...</td>\n",
       "      <td>0</td>\n",
       "      <td>0</td>\n",
       "      <td>0</td>\n",
       "      <td>0</td>\n",
       "      <td>0</td>\n",
       "      <td>0</td>\n",
       "      <td>0</td>\n",
       "      <td>0</td>\n",
       "      <td>0</td>\n",
       "      <td>001A14.JPG</td>\n",
       "    </tr>\n",
       "  </tbody>\n",
       "</table>\n",
       "<p>5 rows × 84 columns</p>\n",
       "</div>"
      ],
      "text/plain": [
       "   ID  subject_1  subject_2  subject_3  subject_4  subject_5  subject_6  \\\n",
       "0   1          1          0          0          0          0          0   \n",
       "1   1          1          0          0          0          0          0   \n",
       "2   1          1          0          0          0          0          0   \n",
       "3   1          1          0          0          0          0          0   \n",
       "4   1          1          0          0          0          0          0   \n",
       "\n",
       "   subject_7  subject_8  subject_9  ...  subject_74  subject_75  subject_76  \\\n",
       "0          0          0          0  ...           0           0           0   \n",
       "1          0          0          0  ...           0           0           0   \n",
       "2          0          0          0  ...           0           0           0   \n",
       "3          0          0          0  ...           0           0           0   \n",
       "4          0          0          0  ...           0           0           0   \n",
       "\n",
       "   subject_77  subject_78  subject_79  subject_80  subject_81  subject_82  \\\n",
       "0           0           0           0           0           0           0   \n",
       "1           0           0           0           0           0           0   \n",
       "2           0           0           0           0           0           0   \n",
       "3           0           0           0           0           0           0   \n",
       "4           0           0           0           0           0           0   \n",
       "\n",
       "    file_name  \n",
       "0  001A02.JPG  \n",
       "1  001A05.JPG  \n",
       "2  001A08.JPG  \n",
       "3  001A10.JPG  \n",
       "4  001A14.JPG  \n",
       "\n",
       "[5 rows x 84 columns]"
      ]
     },
     "execution_count": 11,
     "metadata": {},
     "output_type": "execute_result"
    }
   ],
   "source": [
    "df_2=pd.read_csv(dir +'\\df_2.csv')\n",
    "df_2.head()"
   ]
  },
  {
   "cell_type": "code",
   "execution_count": 12,
   "metadata": {},
   "outputs": [
    {
     "data": {
      "text/html": [
       "<div>\n",
       "<style scoped>\n",
       "    .dataframe tbody tr th:only-of-type {\n",
       "        vertical-align: middle;\n",
       "    }\n",
       "\n",
       "    .dataframe tbody tr th {\n",
       "        vertical-align: top;\n",
       "    }\n",
       "\n",
       "    .dataframe thead th {\n",
       "        text-align: right;\n",
       "    }\n",
       "</style>\n",
       "<table border=\"1\" class=\"dataframe\">\n",
       "  <thead>\n",
       "    <tr style=\"text-align: right;\">\n",
       "      <th></th>\n",
       "      <th>ID</th>\n",
       "      <th>subject_1</th>\n",
       "      <th>subject_2</th>\n",
       "      <th>subject_3</th>\n",
       "      <th>subject_4</th>\n",
       "      <th>subject_5</th>\n",
       "      <th>subject_6</th>\n",
       "      <th>subject_7</th>\n",
       "      <th>subject_8</th>\n",
       "      <th>subject_9</th>\n",
       "      <th>...</th>\n",
       "      <th>subject_74</th>\n",
       "      <th>subject_75</th>\n",
       "      <th>subject_76</th>\n",
       "      <th>subject_77</th>\n",
       "      <th>subject_78</th>\n",
       "      <th>subject_79</th>\n",
       "      <th>subject_80</th>\n",
       "      <th>subject_81</th>\n",
       "      <th>subject_82</th>\n",
       "      <th>file_name</th>\n",
       "    </tr>\n",
       "  </thead>\n",
       "  <tbody>\n",
       "    <tr>\n",
       "      <th>997</th>\n",
       "      <td>82</td>\n",
       "      <td>0</td>\n",
       "      <td>0</td>\n",
       "      <td>0</td>\n",
       "      <td>0</td>\n",
       "      <td>0</td>\n",
       "      <td>0</td>\n",
       "      <td>0</td>\n",
       "      <td>0</td>\n",
       "      <td>0</td>\n",
       "      <td>...</td>\n",
       "      <td>0</td>\n",
       "      <td>0</td>\n",
       "      <td>0</td>\n",
       "      <td>0</td>\n",
       "      <td>0</td>\n",
       "      <td>0</td>\n",
       "      <td>0</td>\n",
       "      <td>0</td>\n",
       "      <td>1</td>\n",
       "      <td>082A22.JPG</td>\n",
       "    </tr>\n",
       "    <tr>\n",
       "      <th>998</th>\n",
       "      <td>82</td>\n",
       "      <td>0</td>\n",
       "      <td>0</td>\n",
       "      <td>0</td>\n",
       "      <td>0</td>\n",
       "      <td>0</td>\n",
       "      <td>0</td>\n",
       "      <td>0</td>\n",
       "      <td>0</td>\n",
       "      <td>0</td>\n",
       "      <td>...</td>\n",
       "      <td>0</td>\n",
       "      <td>0</td>\n",
       "      <td>0</td>\n",
       "      <td>0</td>\n",
       "      <td>0</td>\n",
       "      <td>0</td>\n",
       "      <td>0</td>\n",
       "      <td>0</td>\n",
       "      <td>1</td>\n",
       "      <td>082A23.JPG</td>\n",
       "    </tr>\n",
       "    <tr>\n",
       "      <th>999</th>\n",
       "      <td>82</td>\n",
       "      <td>0</td>\n",
       "      <td>0</td>\n",
       "      <td>0</td>\n",
       "      <td>0</td>\n",
       "      <td>0</td>\n",
       "      <td>0</td>\n",
       "      <td>0</td>\n",
       "      <td>0</td>\n",
       "      <td>0</td>\n",
       "      <td>...</td>\n",
       "      <td>0</td>\n",
       "      <td>0</td>\n",
       "      <td>0</td>\n",
       "      <td>0</td>\n",
       "      <td>0</td>\n",
       "      <td>0</td>\n",
       "      <td>0</td>\n",
       "      <td>0</td>\n",
       "      <td>1</td>\n",
       "      <td>082A25.JPG</td>\n",
       "    </tr>\n",
       "    <tr>\n",
       "      <th>1000</th>\n",
       "      <td>82</td>\n",
       "      <td>0</td>\n",
       "      <td>0</td>\n",
       "      <td>0</td>\n",
       "      <td>0</td>\n",
       "      <td>0</td>\n",
       "      <td>0</td>\n",
       "      <td>0</td>\n",
       "      <td>0</td>\n",
       "      <td>0</td>\n",
       "      <td>...</td>\n",
       "      <td>0</td>\n",
       "      <td>0</td>\n",
       "      <td>0</td>\n",
       "      <td>0</td>\n",
       "      <td>0</td>\n",
       "      <td>0</td>\n",
       "      <td>0</td>\n",
       "      <td>0</td>\n",
       "      <td>1</td>\n",
       "      <td>082A27.JPG</td>\n",
       "    </tr>\n",
       "    <tr>\n",
       "      <th>1001</th>\n",
       "      <td>82</td>\n",
       "      <td>0</td>\n",
       "      <td>0</td>\n",
       "      <td>0</td>\n",
       "      <td>0</td>\n",
       "      <td>0</td>\n",
       "      <td>0</td>\n",
       "      <td>0</td>\n",
       "      <td>0</td>\n",
       "      <td>0</td>\n",
       "      <td>...</td>\n",
       "      <td>0</td>\n",
       "      <td>0</td>\n",
       "      <td>0</td>\n",
       "      <td>0</td>\n",
       "      <td>0</td>\n",
       "      <td>0</td>\n",
       "      <td>0</td>\n",
       "      <td>0</td>\n",
       "      <td>1</td>\n",
       "      <td>082A31.JPG</td>\n",
       "    </tr>\n",
       "  </tbody>\n",
       "</table>\n",
       "<p>5 rows × 84 columns</p>\n",
       "</div>"
      ],
      "text/plain": [
       "      ID  subject_1  subject_2  subject_3  subject_4  subject_5  subject_6  \\\n",
       "997   82          0          0          0          0          0          0   \n",
       "998   82          0          0          0          0          0          0   \n",
       "999   82          0          0          0          0          0          0   \n",
       "1000  82          0          0          0          0          0          0   \n",
       "1001  82          0          0          0          0          0          0   \n",
       "\n",
       "      subject_7  subject_8  subject_9  ...  subject_74  subject_75  \\\n",
       "997           0          0          0  ...           0           0   \n",
       "998           0          0          0  ...           0           0   \n",
       "999           0          0          0  ...           0           0   \n",
       "1000          0          0          0  ...           0           0   \n",
       "1001          0          0          0  ...           0           0   \n",
       "\n",
       "      subject_76  subject_77  subject_78  subject_79  subject_80  subject_81  \\\n",
       "997            0           0           0           0           0           0   \n",
       "998            0           0           0           0           0           0   \n",
       "999            0           0           0           0           0           0   \n",
       "1000           0           0           0           0           0           0   \n",
       "1001           0           0           0           0           0           0   \n",
       "\n",
       "      subject_82   file_name  \n",
       "997            1  082A22.JPG  \n",
       "998            1  082A23.JPG  \n",
       "999            1  082A25.JPG  \n",
       "1000           1  082A27.JPG  \n",
       "1001           1  082A31.JPG  \n",
       "\n",
       "[5 rows x 84 columns]"
      ]
     },
     "execution_count": 12,
     "metadata": {},
     "output_type": "execute_result"
    }
   ],
   "source": [
    "df_2.tail()"
   ]
  },
  {
   "cell_type": "markdown",
   "metadata": {
    "colab_type": "text",
    "id": "utJ4QyB4yFF1"
   },
   "source": [
    "# Step- Splitting data in training and validation sets"
   ]
  },
  {
   "cell_type": "code",
   "execution_count": 275,
   "metadata": {
    "colab": {},
    "colab_type": "code",
    "id": "-I-rIw_3yCLo"
   },
   "outputs": [],
   "source": [
    " train_size = len(df['ID'].unique()) * .8\n",
    "train = pd.DataFrame()\n",
    "valid = pd.DataFrame()\n",
    "for n,i in enumerate(df['ID'].unique()):\n",
    "    if n< train_size:\n",
    "        train = pd.concat([train, df[df['ID']==i]])\n",
    "    else:\n",
    "        valid = pd.concat([valid, df[df['ID']==i]])\n",
    " "
   ]
  },
  {
   "cell_type": "code",
   "execution_count": 276,
   "metadata": {
    "colab": {
     "base_uri": "https://localhost:8080/",
     "height": 53
    },
    "colab_type": "code",
    "id": "moxOAFIiybJU",
    "outputId": "ae30644f-1001-492c-f80c-8977b5d18181"
   },
   "outputs": [
    {
     "name": "stdout",
     "output_type": "stream",
     "text": [
      "Training Set Has: 66 people\n",
      "Validation  Set Has: 16 people\n"
     ]
    }
   ],
   "source": [
    "print('Training Set Has: ' + str(len(train.groupby('ID').count())) + ' people')\n",
    "print('Validation  Set Has: ' + str(len(valid.groupby('ID').count())) + ' people')"
   ]
  },
  {
   "cell_type": "code",
   "execution_count": 33,
   "metadata": {
    "colab": {
     "base_uri": "https://localhost:8080/",
     "height": 256
    },
    "colab_type": "code",
    "id": "6B2WQN7f0QXC",
    "outputId": "09040944-aa29-4d8d-e893-03018b731a74"
   },
   "outputs": [
    {
     "data": {
      "text/html": [
       "<div>\n",
       "<style scoped>\n",
       "    .dataframe tbody tr th:only-of-type {\n",
       "        vertical-align: middle;\n",
       "    }\n",
       "\n",
       "    .dataframe tbody tr th {\n",
       "        vertical-align: top;\n",
       "    }\n",
       "\n",
       "    .dataframe thead th {\n",
       "        text-align: right;\n",
       "    }\n",
       "</style>\n",
       "<table border=\"1\" class=\"dataframe\">\n",
       "  <thead>\n",
       "    <tr style=\"text-align: right;\">\n",
       "      <th></th>\n",
       "      <th>ID</th>\n",
       "      <th>person_1</th>\n",
       "      <th>person_2</th>\n",
       "      <th>person_3</th>\n",
       "      <th>person_4</th>\n",
       "      <th>person_5</th>\n",
       "      <th>person_6</th>\n",
       "      <th>person_7</th>\n",
       "      <th>person_8</th>\n",
       "      <th>person_9</th>\n",
       "      <th>...</th>\n",
       "      <th>person_74</th>\n",
       "      <th>person_75</th>\n",
       "      <th>person_76</th>\n",
       "      <th>person_77</th>\n",
       "      <th>person_78</th>\n",
       "      <th>person_79</th>\n",
       "      <th>person_80</th>\n",
       "      <th>person_81</th>\n",
       "      <th>person_82</th>\n",
       "      <th>file_name</th>\n",
       "    </tr>\n",
       "  </thead>\n",
       "  <tbody>\n",
       "    <tr>\n",
       "      <th>0</th>\n",
       "      <td>1</td>\n",
       "      <td>1</td>\n",
       "      <td>0</td>\n",
       "      <td>0</td>\n",
       "      <td>0</td>\n",
       "      <td>0</td>\n",
       "      <td>0</td>\n",
       "      <td>0</td>\n",
       "      <td>0</td>\n",
       "      <td>0</td>\n",
       "      <td>...</td>\n",
       "      <td>0</td>\n",
       "      <td>0</td>\n",
       "      <td>0</td>\n",
       "      <td>0</td>\n",
       "      <td>0</td>\n",
       "      <td>0</td>\n",
       "      <td>0</td>\n",
       "      <td>0</td>\n",
       "      <td>0</td>\n",
       "      <td>001A02.JPG</td>\n",
       "    </tr>\n",
       "    <tr>\n",
       "      <th>1</th>\n",
       "      <td>1</td>\n",
       "      <td>1</td>\n",
       "      <td>0</td>\n",
       "      <td>0</td>\n",
       "      <td>0</td>\n",
       "      <td>0</td>\n",
       "      <td>0</td>\n",
       "      <td>0</td>\n",
       "      <td>0</td>\n",
       "      <td>0</td>\n",
       "      <td>...</td>\n",
       "      <td>0</td>\n",
       "      <td>0</td>\n",
       "      <td>0</td>\n",
       "      <td>0</td>\n",
       "      <td>0</td>\n",
       "      <td>0</td>\n",
       "      <td>0</td>\n",
       "      <td>0</td>\n",
       "      <td>0</td>\n",
       "      <td>001A05.JPG</td>\n",
       "    </tr>\n",
       "    <tr>\n",
       "      <th>2</th>\n",
       "      <td>1</td>\n",
       "      <td>1</td>\n",
       "      <td>0</td>\n",
       "      <td>0</td>\n",
       "      <td>0</td>\n",
       "      <td>0</td>\n",
       "      <td>0</td>\n",
       "      <td>0</td>\n",
       "      <td>0</td>\n",
       "      <td>0</td>\n",
       "      <td>...</td>\n",
       "      <td>0</td>\n",
       "      <td>0</td>\n",
       "      <td>0</td>\n",
       "      <td>0</td>\n",
       "      <td>0</td>\n",
       "      <td>0</td>\n",
       "      <td>0</td>\n",
       "      <td>0</td>\n",
       "      <td>0</td>\n",
       "      <td>001A08.JPG</td>\n",
       "    </tr>\n",
       "    <tr>\n",
       "      <th>3</th>\n",
       "      <td>1</td>\n",
       "      <td>1</td>\n",
       "      <td>0</td>\n",
       "      <td>0</td>\n",
       "      <td>0</td>\n",
       "      <td>0</td>\n",
       "      <td>0</td>\n",
       "      <td>0</td>\n",
       "      <td>0</td>\n",
       "      <td>0</td>\n",
       "      <td>...</td>\n",
       "      <td>0</td>\n",
       "      <td>0</td>\n",
       "      <td>0</td>\n",
       "      <td>0</td>\n",
       "      <td>0</td>\n",
       "      <td>0</td>\n",
       "      <td>0</td>\n",
       "      <td>0</td>\n",
       "      <td>0</td>\n",
       "      <td>001A10.JPG</td>\n",
       "    </tr>\n",
       "    <tr>\n",
       "      <th>4</th>\n",
       "      <td>1</td>\n",
       "      <td>1</td>\n",
       "      <td>0</td>\n",
       "      <td>0</td>\n",
       "      <td>0</td>\n",
       "      <td>0</td>\n",
       "      <td>0</td>\n",
       "      <td>0</td>\n",
       "      <td>0</td>\n",
       "      <td>0</td>\n",
       "      <td>...</td>\n",
       "      <td>0</td>\n",
       "      <td>0</td>\n",
       "      <td>0</td>\n",
       "      <td>0</td>\n",
       "      <td>0</td>\n",
       "      <td>0</td>\n",
       "      <td>0</td>\n",
       "      <td>0</td>\n",
       "      <td>0</td>\n",
       "      <td>001A14.JPG</td>\n",
       "    </tr>\n",
       "  </tbody>\n",
       "</table>\n",
       "<p>5 rows × 84 columns</p>\n",
       "</div>"
      ],
      "text/plain": [
       "   ID  person_1  person_2  person_3  person_4  person_5  person_6  person_7  \\\n",
       "0   1         1         0         0         0         0         0         0   \n",
       "1   1         1         0         0         0         0         0         0   \n",
       "2   1         1         0         0         0         0         0         0   \n",
       "3   1         1         0         0         0         0         0         0   \n",
       "4   1         1         0         0         0         0         0         0   \n",
       "\n",
       "   person_8  person_9  ...  person_74  person_75  person_76  person_77  \\\n",
       "0         0         0  ...          0          0          0          0   \n",
       "1         0         0  ...          0          0          0          0   \n",
       "2         0         0  ...          0          0          0          0   \n",
       "3         0         0  ...          0          0          0          0   \n",
       "4         0         0  ...          0          0          0          0   \n",
       "\n",
       "   person_78  person_79  person_80  person_81  person_82   file_name  \n",
       "0          0          0          0          0          0  001A02.JPG  \n",
       "1          0          0          0          0          0  001A05.JPG  \n",
       "2          0          0          0          0          0  001A08.JPG  \n",
       "3          0          0          0          0          0  001A10.JPG  \n",
       "4          0          0          0          0          0  001A14.JPG  \n",
       "\n",
       "[5 rows x 84 columns]"
      ]
     },
     "execution_count": 33,
     "metadata": {},
     "output_type": "execute_result"
    }
   ],
   "source": [
    "train.head()"
   ]
  },
  {
   "cell_type": "code",
   "execution_count": 34,
   "metadata": {
    "colab": {
     "base_uri": "https://localhost:8080/",
     "height": 256
    },
    "colab_type": "code",
    "id": "BZzAkugw0mnM",
    "outputId": "e7d89fd3-4f0f-4e70-ef61-91d00f3c64dc"
   },
   "outputs": [
    {
     "data": {
      "text/html": [
       "<div>\n",
       "<style scoped>\n",
       "    .dataframe tbody tr th:only-of-type {\n",
       "        vertical-align: middle;\n",
       "    }\n",
       "\n",
       "    .dataframe tbody tr th {\n",
       "        vertical-align: top;\n",
       "    }\n",
       "\n",
       "    .dataframe thead th {\n",
       "        text-align: right;\n",
       "    }\n",
       "</style>\n",
       "<table border=\"1\" class=\"dataframe\">\n",
       "  <thead>\n",
       "    <tr style=\"text-align: right;\">\n",
       "      <th></th>\n",
       "      <th>ID</th>\n",
       "      <th>person_1</th>\n",
       "      <th>person_2</th>\n",
       "      <th>person_3</th>\n",
       "      <th>person_4</th>\n",
       "      <th>person_5</th>\n",
       "      <th>person_6</th>\n",
       "      <th>person_7</th>\n",
       "      <th>person_8</th>\n",
       "      <th>person_9</th>\n",
       "      <th>...</th>\n",
       "      <th>person_74</th>\n",
       "      <th>person_75</th>\n",
       "      <th>person_76</th>\n",
       "      <th>person_77</th>\n",
       "      <th>person_78</th>\n",
       "      <th>person_79</th>\n",
       "      <th>person_80</th>\n",
       "      <th>person_81</th>\n",
       "      <th>person_82</th>\n",
       "      <th>file_name</th>\n",
       "    </tr>\n",
       "  </thead>\n",
       "  <tbody>\n",
       "    <tr>\n",
       "      <th>207</th>\n",
       "      <td>82</td>\n",
       "      <td>0</td>\n",
       "      <td>0</td>\n",
       "      <td>0</td>\n",
       "      <td>0</td>\n",
       "      <td>0</td>\n",
       "      <td>0</td>\n",
       "      <td>0</td>\n",
       "      <td>0</td>\n",
       "      <td>0</td>\n",
       "      <td>...</td>\n",
       "      <td>0</td>\n",
       "      <td>0</td>\n",
       "      <td>0</td>\n",
       "      <td>0</td>\n",
       "      <td>0</td>\n",
       "      <td>0</td>\n",
       "      <td>0</td>\n",
       "      <td>0</td>\n",
       "      <td>1</td>\n",
       "      <td>082A22.JPG</td>\n",
       "    </tr>\n",
       "    <tr>\n",
       "      <th>208</th>\n",
       "      <td>82</td>\n",
       "      <td>0</td>\n",
       "      <td>0</td>\n",
       "      <td>0</td>\n",
       "      <td>0</td>\n",
       "      <td>0</td>\n",
       "      <td>0</td>\n",
       "      <td>0</td>\n",
       "      <td>0</td>\n",
       "      <td>0</td>\n",
       "      <td>...</td>\n",
       "      <td>0</td>\n",
       "      <td>0</td>\n",
       "      <td>0</td>\n",
       "      <td>0</td>\n",
       "      <td>0</td>\n",
       "      <td>0</td>\n",
       "      <td>0</td>\n",
       "      <td>0</td>\n",
       "      <td>1</td>\n",
       "      <td>082A23.JPG</td>\n",
       "    </tr>\n",
       "    <tr>\n",
       "      <th>209</th>\n",
       "      <td>82</td>\n",
       "      <td>0</td>\n",
       "      <td>0</td>\n",
       "      <td>0</td>\n",
       "      <td>0</td>\n",
       "      <td>0</td>\n",
       "      <td>0</td>\n",
       "      <td>0</td>\n",
       "      <td>0</td>\n",
       "      <td>0</td>\n",
       "      <td>...</td>\n",
       "      <td>0</td>\n",
       "      <td>0</td>\n",
       "      <td>0</td>\n",
       "      <td>0</td>\n",
       "      <td>0</td>\n",
       "      <td>0</td>\n",
       "      <td>0</td>\n",
       "      <td>0</td>\n",
       "      <td>1</td>\n",
       "      <td>082A25.JPG</td>\n",
       "    </tr>\n",
       "    <tr>\n",
       "      <th>210</th>\n",
       "      <td>82</td>\n",
       "      <td>0</td>\n",
       "      <td>0</td>\n",
       "      <td>0</td>\n",
       "      <td>0</td>\n",
       "      <td>0</td>\n",
       "      <td>0</td>\n",
       "      <td>0</td>\n",
       "      <td>0</td>\n",
       "      <td>0</td>\n",
       "      <td>...</td>\n",
       "      <td>0</td>\n",
       "      <td>0</td>\n",
       "      <td>0</td>\n",
       "      <td>0</td>\n",
       "      <td>0</td>\n",
       "      <td>0</td>\n",
       "      <td>0</td>\n",
       "      <td>0</td>\n",
       "      <td>1</td>\n",
       "      <td>082A27.JPG</td>\n",
       "    </tr>\n",
       "    <tr>\n",
       "      <th>211</th>\n",
       "      <td>82</td>\n",
       "      <td>0</td>\n",
       "      <td>0</td>\n",
       "      <td>0</td>\n",
       "      <td>0</td>\n",
       "      <td>0</td>\n",
       "      <td>0</td>\n",
       "      <td>0</td>\n",
       "      <td>0</td>\n",
       "      <td>0</td>\n",
       "      <td>...</td>\n",
       "      <td>0</td>\n",
       "      <td>0</td>\n",
       "      <td>0</td>\n",
       "      <td>0</td>\n",
       "      <td>0</td>\n",
       "      <td>0</td>\n",
       "      <td>0</td>\n",
       "      <td>0</td>\n",
       "      <td>1</td>\n",
       "      <td>082A31.JPG</td>\n",
       "    </tr>\n",
       "  </tbody>\n",
       "</table>\n",
       "<p>5 rows × 84 columns</p>\n",
       "</div>"
      ],
      "text/plain": [
       "     ID  person_1  person_2  person_3  person_4  person_5  person_6  person_7  \\\n",
       "207  82         0         0         0         0         0         0         0   \n",
       "208  82         0         0         0         0         0         0         0   \n",
       "209  82         0         0         0         0         0         0         0   \n",
       "210  82         0         0         0         0         0         0         0   \n",
       "211  82         0         0         0         0         0         0         0   \n",
       "\n",
       "     person_8  person_9  ...  person_74  person_75  person_76  person_77  \\\n",
       "207         0         0  ...          0          0          0          0   \n",
       "208         0         0  ...          0          0          0          0   \n",
       "209         0         0  ...          0          0          0          0   \n",
       "210         0         0  ...          0          0          0          0   \n",
       "211         0         0  ...          0          0          0          0   \n",
       "\n",
       "     person_78  person_79  person_80  person_81  person_82   file_name  \n",
       "207          0          0          0          0          1  082A22.JPG  \n",
       "208          0          0          0          0          1  082A23.JPG  \n",
       "209          0          0          0          0          1  082A25.JPG  \n",
       "210          0          0          0          0          1  082A27.JPG  \n",
       "211          0          0          0          0          1  082A31.JPG  \n",
       "\n",
       "[5 rows x 84 columns]"
      ]
     },
     "execution_count": 34,
     "metadata": {},
     "output_type": "execute_result"
    }
   ],
   "source": [
    "valid.tail()"
   ]
  },
  {
   "cell_type": "markdown",
   "metadata": {
    "colab_type": "text",
    "id": "CYjKdGgyylVR"
   },
   "source": [
    "# Step- Preparing Test data"
   ]
  },
  {
   "cell_type": "markdown",
   "metadata": {},
   "source": [
    "### The unique ID of persons in train dataframe"
   ]
  },
  {
   "cell_type": "code",
   "execution_count": 224,
   "metadata": {
    "colab": {
     "base_uri": "https://localhost:8080/",
     "height": 91
    },
    "colab_type": "code",
    "id": "1CSIvGh3ypu9",
    "outputId": "8d4bf255-76f7-4052-d075-1b7ffcca289a"
   },
   "outputs": [
    {
     "data": {
      "text/plain": [
       "array([ 1,  2,  3,  4,  5,  6,  7,  8,  9, 10, 11, 12, 13, 14, 15, 16, 17,\n",
       "       18, 19, 20, 21, 22, 23, 24, 25, 26, 27, 28, 29, 30, 31, 32, 33, 34,\n",
       "       35, 36, 37, 38, 39, 40, 41, 42, 43, 44, 45, 46, 47, 48, 49, 50, 51,\n",
       "       52, 53, 54, 55, 56, 57, 58, 59, 60, 61, 62, 63, 64, 65, 66],\n",
       "      dtype=int64)"
      ]
     },
     "execution_count": 224,
     "metadata": {},
     "output_type": "execute_result"
    }
   ],
   "source": [
    "np.unique(train.ID.values)"
   ]
  },
  {
   "cell_type": "markdown",
   "metadata": {},
   "source": [
    "### taking data of 8 person out from the training dataframe to use in test data"
   ]
  },
  {
   "cell_type": "code",
   "execution_count": 277,
   "metadata": {
    "colab": {},
    "colab_type": "code",
    "id": "zefv9c3HzVeK"
   },
   "outputs": [],
   "source": [
    "test_ids= [ 34,35, 36, 37, 38, 39, 40, 41] "
   ]
  },
  {
   "cell_type": "code",
   "execution_count": 278,
   "metadata": {
    "colab": {
     "base_uri": "https://localhost:8080/",
     "height": 193
    },
    "colab_type": "code",
    "id": "QwEV-3xGzrWS",
    "outputId": "f1e49c08-5f43-44b6-8f64-41e31363f40e"
   },
   "outputs": [
    {
     "data": {
      "text/html": [
       "<div>\n",
       "<style scoped>\n",
       "    .dataframe tbody tr th:only-of-type {\n",
       "        vertical-align: middle;\n",
       "    }\n",
       "\n",
       "    .dataframe tbody tr th {\n",
       "        vertical-align: top;\n",
       "    }\n",
       "\n",
       "    .dataframe thead th {\n",
       "        text-align: right;\n",
       "    }\n",
       "</style>\n",
       "<table border=\"1\" class=\"dataframe\">\n",
       "  <thead>\n",
       "    <tr style=\"text-align: right;\">\n",
       "      <th></th>\n",
       "      <th>ID</th>\n",
       "      <th>person_1</th>\n",
       "      <th>person_2</th>\n",
       "      <th>person_3</th>\n",
       "      <th>person_4</th>\n",
       "      <th>person_5</th>\n",
       "      <th>person_6</th>\n",
       "      <th>person_7</th>\n",
       "      <th>person_8</th>\n",
       "      <th>person_9</th>\n",
       "      <th>...</th>\n",
       "      <th>person_74</th>\n",
       "      <th>person_75</th>\n",
       "      <th>person_76</th>\n",
       "      <th>person_77</th>\n",
       "      <th>person_78</th>\n",
       "      <th>person_79</th>\n",
       "      <th>person_80</th>\n",
       "      <th>person_81</th>\n",
       "      <th>person_82</th>\n",
       "      <th>file_name</th>\n",
       "    </tr>\n",
       "  </thead>\n",
       "  <tbody>\n",
       "    <tr>\n",
       "      <th>404</th>\n",
       "      <td>34</td>\n",
       "      <td>0</td>\n",
       "      <td>0</td>\n",
       "      <td>0</td>\n",
       "      <td>0</td>\n",
       "      <td>0</td>\n",
       "      <td>0</td>\n",
       "      <td>0</td>\n",
       "      <td>0</td>\n",
       "      <td>0</td>\n",
       "      <td>...</td>\n",
       "      <td>0</td>\n",
       "      <td>0</td>\n",
       "      <td>0</td>\n",
       "      <td>0</td>\n",
       "      <td>0</td>\n",
       "      <td>0</td>\n",
       "      <td>0</td>\n",
       "      <td>0</td>\n",
       "      <td>0</td>\n",
       "      <td>034A02.JPG</td>\n",
       "    </tr>\n",
       "    <tr>\n",
       "      <th>405</th>\n",
       "      <td>34</td>\n",
       "      <td>0</td>\n",
       "      <td>0</td>\n",
       "      <td>0</td>\n",
       "      <td>0</td>\n",
       "      <td>0</td>\n",
       "      <td>0</td>\n",
       "      <td>0</td>\n",
       "      <td>0</td>\n",
       "      <td>0</td>\n",
       "      <td>...</td>\n",
       "      <td>0</td>\n",
       "      <td>0</td>\n",
       "      <td>0</td>\n",
       "      <td>0</td>\n",
       "      <td>0</td>\n",
       "      <td>0</td>\n",
       "      <td>0</td>\n",
       "      <td>0</td>\n",
       "      <td>0</td>\n",
       "      <td>034A04.JPG</td>\n",
       "    </tr>\n",
       "    <tr>\n",
       "      <th>406</th>\n",
       "      <td>34</td>\n",
       "      <td>0</td>\n",
       "      <td>0</td>\n",
       "      <td>0</td>\n",
       "      <td>0</td>\n",
       "      <td>0</td>\n",
       "      <td>0</td>\n",
       "      <td>0</td>\n",
       "      <td>0</td>\n",
       "      <td>0</td>\n",
       "      <td>...</td>\n",
       "      <td>0</td>\n",
       "      <td>0</td>\n",
       "      <td>0</td>\n",
       "      <td>0</td>\n",
       "      <td>0</td>\n",
       "      <td>0</td>\n",
       "      <td>0</td>\n",
       "      <td>0</td>\n",
       "      <td>0</td>\n",
       "      <td>034A11.JPG</td>\n",
       "    </tr>\n",
       "    <tr>\n",
       "      <th>407</th>\n",
       "      <td>34</td>\n",
       "      <td>0</td>\n",
       "      <td>0</td>\n",
       "      <td>0</td>\n",
       "      <td>0</td>\n",
       "      <td>0</td>\n",
       "      <td>0</td>\n",
       "      <td>0</td>\n",
       "      <td>0</td>\n",
       "      <td>0</td>\n",
       "      <td>...</td>\n",
       "      <td>0</td>\n",
       "      <td>0</td>\n",
       "      <td>0</td>\n",
       "      <td>0</td>\n",
       "      <td>0</td>\n",
       "      <td>0</td>\n",
       "      <td>0</td>\n",
       "      <td>0</td>\n",
       "      <td>0</td>\n",
       "      <td>034A13.JPG</td>\n",
       "    </tr>\n",
       "    <tr>\n",
       "      <th>408</th>\n",
       "      <td>34</td>\n",
       "      <td>0</td>\n",
       "      <td>0</td>\n",
       "      <td>0</td>\n",
       "      <td>0</td>\n",
       "      <td>0</td>\n",
       "      <td>0</td>\n",
       "      <td>0</td>\n",
       "      <td>0</td>\n",
       "      <td>0</td>\n",
       "      <td>...</td>\n",
       "      <td>0</td>\n",
       "      <td>0</td>\n",
       "      <td>0</td>\n",
       "      <td>0</td>\n",
       "      <td>0</td>\n",
       "      <td>0</td>\n",
       "      <td>0</td>\n",
       "      <td>0</td>\n",
       "      <td>0</td>\n",
       "      <td>034A15.JPG</td>\n",
       "    </tr>\n",
       "  </tbody>\n",
       "</table>\n",
       "<p>5 rows × 84 columns</p>\n",
       "</div>"
      ],
      "text/plain": [
       "     ID  person_1  person_2  person_3  person_4  person_5  person_6  person_7  \\\n",
       "404  34         0         0         0         0         0         0         0   \n",
       "405  34         0         0         0         0         0         0         0   \n",
       "406  34         0         0         0         0         0         0         0   \n",
       "407  34         0         0         0         0         0         0         0   \n",
       "408  34         0         0         0         0         0         0         0   \n",
       "\n",
       "     person_8  person_9  ...  person_74  person_75  person_76  person_77  \\\n",
       "404         0         0  ...          0          0          0          0   \n",
       "405         0         0  ...          0          0          0          0   \n",
       "406         0         0  ...          0          0          0          0   \n",
       "407         0         0  ...          0          0          0          0   \n",
       "408         0         0  ...          0          0          0          0   \n",
       "\n",
       "     person_78  person_79  person_80  person_81  person_82   file_name  \n",
       "404          0          0          0          0          0  034A02.JPG  \n",
       "405          0          0          0          0          0  034A04.JPG  \n",
       "406          0          0          0          0          0  034A11.JPG  \n",
       "407          0          0          0          0          0  034A13.JPG  \n",
       "408          0          0          0          0          0  034A15.JPG  \n",
       "\n",
       "[5 rows x 84 columns]"
      ]
     },
     "execution_count": 278,
     "metadata": {},
     "output_type": "execute_result"
    }
   ],
   "source": [
    "# # selecting rows based on condition \n",
    "test= train[train['ID'].isin(test_ids)] \n",
    "test.head(5)"
   ]
  },
  {
   "cell_type": "code",
   "execution_count": 279,
   "metadata": {
    "colab": {
     "base_uri": "https://localhost:8080/",
     "height": 35
    },
    "colab_type": "code",
    "id": "j8Ru6hWE02gR",
    "outputId": "6ea1b480-a0e9-442c-a6b0-bca732252241"
   },
   "outputs": [
    {
     "name": "stdout",
     "output_type": "stream",
     "text": [
      "(790, 84) (212, 84) (104, 84)\n"
     ]
    }
   ],
   "source": [
    "print(train.shape, valid.shape,test.shape )"
   ]
  },
  {
   "cell_type": "code",
   "execution_count": 228,
   "metadata": {
    "colab": {},
    "colab_type": "code",
    "id": "Rexv_VGI0-4e"
   },
   "outputs": [],
   "source": [
    "# # removing the Test IDs from the Traind data\n",
    "# # removing 34,35, 36, 37, 38, 39, 40, 41 indices\n",
    "train_ids=['0', '1', '2', '3', '4', '5', '6', '7', '8', '9', '10', '11',\n",
    "        '12', '13', '14', '15', '16', '17', '18', '19', '20', '21', '22', '23',\n",
    "        '24', '25', '26', '27', '28', '29', '30', '31', '32', '33', '42', '43', '44', '45', '46', '47',\n",
    "        '48', '49', '50', '51', '52', '53', '54', '55', '56', '57', '58', '59',\n",
    "        '60', '61', '62', '63', '64', '65', '66', '67', '68', '69', '70', '71',\n",
    "        '72', '73', '74', '75', '76', '77', '78', '79', '80', '81']"
   ]
  },
  {
   "cell_type": "code",
   "execution_count": 229,
   "metadata": {
    "colab": {
     "base_uri": "https://localhost:8080/",
     "height": 255
    },
    "colab_type": "code",
    "id": "0P_6w-N11NJJ",
    "outputId": "fe5f262f-9f43-4c5b-d676-e501a3b9ad07"
   },
   "outputs": [
    {
     "data": {
      "text/html": [
       "<div>\n",
       "<style scoped>\n",
       "    .dataframe tbody tr th:only-of-type {\n",
       "        vertical-align: middle;\n",
       "    }\n",
       "\n",
       "    .dataframe tbody tr th {\n",
       "        vertical-align: top;\n",
       "    }\n",
       "\n",
       "    .dataframe thead th {\n",
       "        text-align: right;\n",
       "    }\n",
       "</style>\n",
       "<table border=\"1\" class=\"dataframe\">\n",
       "  <thead>\n",
       "    <tr style=\"text-align: right;\">\n",
       "      <th></th>\n",
       "      <th>ID</th>\n",
       "      <th>person_1</th>\n",
       "      <th>person_2</th>\n",
       "      <th>person_3</th>\n",
       "      <th>person_4</th>\n",
       "      <th>person_5</th>\n",
       "      <th>person_6</th>\n",
       "      <th>person_7</th>\n",
       "      <th>person_8</th>\n",
       "      <th>person_9</th>\n",
       "      <th>...</th>\n",
       "      <th>person_74</th>\n",
       "      <th>person_75</th>\n",
       "      <th>person_76</th>\n",
       "      <th>person_77</th>\n",
       "      <th>person_78</th>\n",
       "      <th>person_79</th>\n",
       "      <th>person_80</th>\n",
       "      <th>person_81</th>\n",
       "      <th>person_82</th>\n",
       "      <th>file_name</th>\n",
       "    </tr>\n",
       "  </thead>\n",
       "  <tbody>\n",
       "    <tr>\n",
       "      <th>0</th>\n",
       "      <td>1</td>\n",
       "      <td>1</td>\n",
       "      <td>0</td>\n",
       "      <td>0</td>\n",
       "      <td>0</td>\n",
       "      <td>0</td>\n",
       "      <td>0</td>\n",
       "      <td>0</td>\n",
       "      <td>0</td>\n",
       "      <td>0</td>\n",
       "      <td>...</td>\n",
       "      <td>0</td>\n",
       "      <td>0</td>\n",
       "      <td>0</td>\n",
       "      <td>0</td>\n",
       "      <td>0</td>\n",
       "      <td>0</td>\n",
       "      <td>0</td>\n",
       "      <td>0</td>\n",
       "      <td>0</td>\n",
       "      <td>001A02.JPG</td>\n",
       "    </tr>\n",
       "    <tr>\n",
       "      <th>1</th>\n",
       "      <td>1</td>\n",
       "      <td>1</td>\n",
       "      <td>0</td>\n",
       "      <td>0</td>\n",
       "      <td>0</td>\n",
       "      <td>0</td>\n",
       "      <td>0</td>\n",
       "      <td>0</td>\n",
       "      <td>0</td>\n",
       "      <td>0</td>\n",
       "      <td>...</td>\n",
       "      <td>0</td>\n",
       "      <td>0</td>\n",
       "      <td>0</td>\n",
       "      <td>0</td>\n",
       "      <td>0</td>\n",
       "      <td>0</td>\n",
       "      <td>0</td>\n",
       "      <td>0</td>\n",
       "      <td>0</td>\n",
       "      <td>001A05.JPG</td>\n",
       "    </tr>\n",
       "    <tr>\n",
       "      <th>2</th>\n",
       "      <td>1</td>\n",
       "      <td>1</td>\n",
       "      <td>0</td>\n",
       "      <td>0</td>\n",
       "      <td>0</td>\n",
       "      <td>0</td>\n",
       "      <td>0</td>\n",
       "      <td>0</td>\n",
       "      <td>0</td>\n",
       "      <td>0</td>\n",
       "      <td>...</td>\n",
       "      <td>0</td>\n",
       "      <td>0</td>\n",
       "      <td>0</td>\n",
       "      <td>0</td>\n",
       "      <td>0</td>\n",
       "      <td>0</td>\n",
       "      <td>0</td>\n",
       "      <td>0</td>\n",
       "      <td>0</td>\n",
       "      <td>001A08.JPG</td>\n",
       "    </tr>\n",
       "    <tr>\n",
       "      <th>3</th>\n",
       "      <td>1</td>\n",
       "      <td>1</td>\n",
       "      <td>0</td>\n",
       "      <td>0</td>\n",
       "      <td>0</td>\n",
       "      <td>0</td>\n",
       "      <td>0</td>\n",
       "      <td>0</td>\n",
       "      <td>0</td>\n",
       "      <td>0</td>\n",
       "      <td>...</td>\n",
       "      <td>0</td>\n",
       "      <td>0</td>\n",
       "      <td>0</td>\n",
       "      <td>0</td>\n",
       "      <td>0</td>\n",
       "      <td>0</td>\n",
       "      <td>0</td>\n",
       "      <td>0</td>\n",
       "      <td>0</td>\n",
       "      <td>001A10.JPG</td>\n",
       "    </tr>\n",
       "    <tr>\n",
       "      <th>4</th>\n",
       "      <td>1</td>\n",
       "      <td>1</td>\n",
       "      <td>0</td>\n",
       "      <td>0</td>\n",
       "      <td>0</td>\n",
       "      <td>0</td>\n",
       "      <td>0</td>\n",
       "      <td>0</td>\n",
       "      <td>0</td>\n",
       "      <td>0</td>\n",
       "      <td>...</td>\n",
       "      <td>0</td>\n",
       "      <td>0</td>\n",
       "      <td>0</td>\n",
       "      <td>0</td>\n",
       "      <td>0</td>\n",
       "      <td>0</td>\n",
       "      <td>0</td>\n",
       "      <td>0</td>\n",
       "      <td>0</td>\n",
       "      <td>001A14.JPG</td>\n",
       "    </tr>\n",
       "  </tbody>\n",
       "</table>\n",
       "<p>5 rows × 84 columns</p>\n",
       "</div>"
      ],
      "text/plain": [
       "   ID  person_1  person_2  person_3  person_4  person_5  person_6  person_7  \\\n",
       "0   1         1         0         0         0         0         0         0   \n",
       "1   1         1         0         0         0         0         0         0   \n",
       "2   1         1         0         0         0         0         0         0   \n",
       "3   1         1         0         0         0         0         0         0   \n",
       "4   1         1         0         0         0         0         0         0   \n",
       "\n",
       "   person_8  person_9  ...  person_74  person_75  person_76  person_77  \\\n",
       "0         0         0  ...          0          0          0          0   \n",
       "1         0         0  ...          0          0          0          0   \n",
       "2         0         0  ...          0          0          0          0   \n",
       "3         0         0  ...          0          0          0          0   \n",
       "4         0         0  ...          0          0          0          0   \n",
       "\n",
       "   person_78  person_79  person_80  person_81  person_82   file_name  \n",
       "0          0          0          0          0          0  001A02.JPG  \n",
       "1          0          0          0          0          0  001A05.JPG  \n",
       "2          0          0          0          0          0  001A08.JPG  \n",
       "3          0          0          0          0          0  001A10.JPG  \n",
       "4          0          0          0          0          0  001A14.JPG  \n",
       "\n",
       "[5 rows x 84 columns]"
      ]
     },
     "execution_count": 229,
     "metadata": {},
     "output_type": "execute_result"
    }
   ],
   "source": [
    "train= train[train['ID'].isin(train_ids)] \n",
    "train.head()"
   ]
  },
  {
   "cell_type": "code",
   "execution_count": 230,
   "metadata": {
    "colab": {
     "base_uri": "https://localhost:8080/",
     "height": 35
    },
    "colab_type": "code",
    "id": "zKTuvzew1Rwt",
    "outputId": "5369170c-6cf5-4f6f-ea4f-7d1e7c346215"
   },
   "outputs": [
    {
     "name": "stdout",
     "output_type": "stream",
     "text": [
      "(686, 84) (212, 84) (104, 84)\n"
     ]
    }
   ],
   "source": [
    "print(train.shape, valid.shape,test.shape )"
   ]
  },
  {
   "cell_type": "code",
   "execution_count": 231,
   "metadata": {
    "colab": {
     "base_uri": "https://localhost:8080/",
     "height": 72
    },
    "colab_type": "code",
    "id": "rjGNlDkG4pon",
    "outputId": "4c3f50cf-b828-4feb-f887-68706c7d1a8f"
   },
   "outputs": [
    {
     "name": "stdout",
     "output_type": "stream",
     "text": [
      "Training    Set Has: 58 people\n",
      "Validation  Set Has: 16 people\n",
      ".....Test   Set Has:  8 people\n"
     ]
    }
   ],
   "source": [
    "print('Training    Set Has: ' + str(len(train.groupby('ID').count())) + ' people')\n",
    "print('Validation  Set Has: ' + str(len(valid.groupby('ID').count())) + ' people')\n",
    "print('.....Test   Set Has:  ' + str(len(test.groupby('ID').count())) + ' people')"
   ]
  },
  {
   "cell_type": "markdown",
   "metadata": {
    "colab_type": "text",
    "id": "6KRG5oEuVG_a"
   },
   "source": [
    "## Saving results of Training, Validation and Testing Data"
   ]
  },
  {
   "cell_type": "code",
   "execution_count": 233,
   "metadata": {
    "colab": {},
    "colab_type": "code",
    "id": "hPSGmWGN2RFZ"
   },
   "outputs": [],
   "source": [
    "\n",
    "train.to_csv(dir +'/train_1.csv',index=False)\n",
    "valid.to_csv(dir+'/valid_1.csv',index=False)\n",
    "test.to_csv(dir+'/test_1.csv',index=False)"
   ]
  },
  {
   "cell_type": "code",
   "execution_count": 13,
   "metadata": {
    "colab": {},
    "colab_type": "code",
    "id": "4i1YdiDZ4u1T"
   },
   "outputs": [],
   "source": [
    "train=pd.read_csv(dir+'/train_1.csv')\n",
    "valid=pd.read_csv(dir+'/valid_1.csv')\n",
    "test=pd.read_csv(dir+'/test_1.csv')"
   ]
  },
  {
   "cell_type": "code",
   "execution_count": 14,
   "metadata": {
    "colab": {
     "base_uri": "https://localhost:8080/",
     "height": 36
    },
    "colab_type": "code",
    "id": "2IskkomvPJou",
    "outputId": "765a2309-1237-4c6e-9a0c-a8394a135188"
   },
   "outputs": [
    {
     "name": "stdout",
     "output_type": "stream",
     "text": [
      "(686, 84) (212, 84) (104, 84)\n"
     ]
    }
   ],
   "source": [
    "print(train.shape,valid.shape,test.shape)"
   ]
  },
  {
   "cell_type": "markdown",
   "metadata": {
    "colab_type": "text",
    "id": "7yWwlz8l1ZA6"
   },
   "source": [
    "# Taking out two photos for prediction"
   ]
  },
  {
   "cell_type": "markdown",
   "metadata": {
    "colab_type": "text",
    "id": "FWb7Uwwt984d"
   },
   "source": [
    "# Function to find the index of images"
   ]
  },
  {
   "cell_type": "code",
   "execution_count": 64,
   "metadata": {
    "colab": {},
    "colab_type": "code",
    "id": "dJoHHku19dgs"
   },
   "outputs": [],
   "source": [
    "def getIndexes(dfObj, value):\n",
    "    ''' Get index positions of value in dataframe i.e. dfObj.'''\n",
    "    listOfPos = list()\n",
    "    # Get bool dataframe with True at positions where the given value exists\n",
    "    result = dfObj.isin([value])\n",
    "    # Get list of columns that contains the value\n",
    "    seriesObj = result.any()\n",
    "    columnNames = list(seriesObj[seriesObj == True].index)\n",
    "    # Iterate over list of columns and fetch the rows indexes where value exists\n",
    "    for col in columnNames:\n",
    "        rows = list(result[col][result[col] == True].index)\n",
    "        for row in rows:\n",
    "            listOfPos.append((row, col))\n",
    "    # Return a list of tuples indicating the positions of value in the dataframe\n",
    "    return listOfPos"
   ]
  },
  {
   "cell_type": "markdown",
   "metadata": {
    "colab_type": "text",
    "id": "fnZlErph9yBp"
   },
   "source": [
    "#  For testing purpose ,dropping images 057A18.JPG ,032A28.JPG\n",
    "# Class Number of these images=57 and 10 respectively"
   ]
  },
  {
   "cell_type": "code",
   "execution_count": 95,
   "metadata": {
    "colab": {},
    "colab_type": "code",
    "id": "nyiWjgquDRNL"
   },
   "outputs": [],
   "source": [
    "image_path_1=dir + '/fg/057A18.JPG'\n",
    "image_path_2=dir + '/fg/032A28.JPG'"
   ]
  },
  {
   "cell_type": "code",
   "execution_count": 96,
   "metadata": {
    "colab": {
     "base_uri": "https://localhost:8080/",
     "height": 287
    },
    "colab_type": "code",
    "id": "p-UHOfLtAMkX",
    "outputId": "3c50404c-acf6-4e84-c916-87f5dd504abd"
   },
   "outputs": [
    {
     "data": {
      "image/png": "[encoded data removed]",
      "text/plain": [
       "<Figure size 432x288 with 1 Axes>"
      ]
     },
     "metadata": {
      "needs_background": "light"
     },
     "output_type": "display_data"
    }
   ],
   "source": [
    "import matplotlib.pyplot as plt\n",
    "import matplotlib.image as mpimg\n",
    "img=mpimg.imread(image_path_1)\n",
    "imgplot = plt.imshow(img)\n",
    "plt.show()"
   ]
  },
  {
   "cell_type": "code",
   "execution_count": 97,
   "metadata": {
    "colab": {
     "base_uri": "https://localhost:8080/",
     "height": 269
    },
    "colab_type": "code",
    "id": "FJWo3EwwEMZa",
    "outputId": "3474ee58-4c99-4c39-e5ff-d3c52226e776"
   },
   "outputs": [
    {
     "data": {
      "image/png": "[encoded data removed]",
      "text/plain": [
       "<Figure size 432x288 with 1 Axes>"
      ]
     },
     "metadata": {
      "needs_background": "light"
     },
     "output_type": "display_data"
    }
   ],
   "source": [
    "img=mpimg.imread(image_path_2)\n",
    "imgplot = plt.imshow(img)\n",
    "plt.show()"
   ]
  },
  {
   "cell_type": "markdown",
   "metadata": {
    "colab_type": "text",
    "id": "ZuL6jcBAWBgS"
   },
   "source": [
    "## Get index of 1st image"
   ]
  },
  {
   "cell_type": "code",
   "execution_count": 98,
   "metadata": {
    "colab": {
     "base_uri": "https://localhost:8080/",
     "height": 35
    },
    "colab_type": "code",
    "id": "bX-suD-u-Bya",
    "outputId": "8e437a68-ca04-4b2c-bfb8-0842312aeee5"
   },
   "outputs": [
    {
     "data": {
      "text/plain": [
       "[(583, 'file_name')]"
      ]
     },
     "execution_count": 98,
     "metadata": {},
     "output_type": "execute_result"
    }
   ],
   "source": [
    "getIndexes(train, '057A18.JPG')"
   ]
  },
  {
   "cell_type": "markdown",
   "metadata": {
    "colab_type": "text",
    "id": "YcLCaHj5WIox"
   },
   "source": [
    "## Get index of 2nd image"
   ]
  },
  {
   "cell_type": "code",
   "execution_count": 99,
   "metadata": {
    "colab": {
     "base_uri": "https://localhost:8080/",
     "height": 35
    },
    "colab_type": "code",
    "id": "qGi6bXN3-qe2",
    "outputId": "4e9fe223-6ef0-43b3-af7b-53139a3789e0"
   },
   "outputs": [
    {
     "data": {
      "text/plain": [
       "[(389, 'file_name')]"
      ]
     },
     "execution_count": 99,
     "metadata": {},
     "output_type": "execute_result"
    }
   ],
   "source": [
    "getIndexes(train ,'032A28.JPG')"
   ]
  },
  {
   "cell_type": "code",
   "execution_count": 21,
   "metadata": {
    "colab": {},
    "colab_type": "code",
    "id": "ZQ2DmkhfAQbf"
   },
   "outputs": [],
   "source": [
    "train2=train"
   ]
  },
  {
   "cell_type": "markdown",
   "metadata": {
    "colab_type": "text",
    "id": "57srZFjFWezW"
   },
   "source": [
    "# Removing Both the images (for prediction) from the Training Set"
   ]
  },
  {
   "cell_type": "code",
   "execution_count": 100,
   "metadata": {
    "colab": {},
    "colab_type": "code",
    "id": "_0jtSe701eOd"
   },
   "outputs": [],
   "source": [
    "train2.drop([583,389],inplace=True)"
   ]
  },
  {
   "cell_type": "code",
   "execution_count": 101,
   "metadata": {
    "colab": {
     "base_uri": "https://localhost:8080/",
     "height": 35
    },
    "colab_type": "code",
    "id": "Tav4fIvGAbLV",
    "outputId": "80c417c7-b16c-4452-846f-4feadc04ba1c"
   },
   "outputs": [
    {
     "data": {
      "text/plain": [
       "(682, 84)"
      ]
     },
     "execution_count": 101,
     "metadata": {},
     "output_type": "execute_result"
    }
   ],
   "source": [
    "train2.shape"
   ]
  },
  {
   "cell_type": "markdown",
   "metadata": {
    "colab_type": "text",
    "id": "hUF3EvY2WvCO"
   },
   "source": [
    "### Saving the new Train data (without the 2 images)"
   ]
  },
  {
   "cell_type": "code",
   "execution_count": 243,
   "metadata": {
    "colab": {},
    "colab_type": "code",
    "id": "UeS76WLhBSJG"
   },
   "outputs": [],
   "source": [
    "train2.to_csv(dir + '/train_2.csv',index=False)"
   ]
  },
  {
   "cell_type": "code",
   "execution_count": 15,
   "metadata": {
    "colab": {},
    "colab_type": "code",
    "id": "Ws2OPIKLEPTo"
   },
   "outputs": [],
   "source": [
    "train2=pd.read_csv(dir +'/train_2.csv')"
   ]
  },
  {
   "cell_type": "code",
   "execution_count": 16,
   "metadata": {},
   "outputs": [],
   "source": [
    "test=pd.read_csv(dir+'/test_1.csv')"
   ]
  },
  {
   "cell_type": "code",
   "execution_count": 17,
   "metadata": {
    "colab": {
     "base_uri": "https://localhost:8080/",
     "height": 72
    },
    "colab_type": "code",
    "id": "6_nD1ldCAskL",
    "outputId": "50331370-8cb6-4b4d-dc6e-cc91affcf7bf"
   },
   "outputs": [
    {
     "name": "stdout",
     "output_type": "stream",
     "text": [
      "Training    Set Has: 58 people\n",
      "Validation  Set Has: 16 people\n",
      ".....Test   Set Has:  8 people\n"
     ]
    }
   ],
   "source": [
    "print('Training    Set Has: ' + str(len(train2.groupby('ID').count())) + ' people')\n",
    "print('Validation  Set Has: ' + str(len(valid.groupby('ID').count())) + ' people')\n",
    "print('.....Test   Set Has:  ' + str(len(test.groupby('ID').count())) + ' people')"
   ]
  },
  {
   "cell_type": "markdown",
   "metadata": {
    "colab_type": "text",
    "id": "RO398-B3A17E"
   },
   "source": [
    "## Target Labels"
   ]
  },
  {
   "cell_type": "code",
   "execution_count": 18,
   "metadata": {},
   "outputs": [],
   "source": [
    "import re\n",
    "train2.rename(columns=lambda x: re.sub(\"person\", \"subject\", x),inplace=True)"
   ]
  },
  {
   "cell_type": "code",
   "execution_count": 19,
   "metadata": {
    "colab": {
     "base_uri": "https://localhost:8080/",
     "height": 350
    },
    "colab_type": "code",
    "id": "5A5_wELbA7Tf",
    "outputId": "9c5f913a-3ec6-4227-8dfa-9a4d2a8b0267"
   },
   "outputs": [
    {
     "data": {
      "text/plain": [
       "Index(['ID', 'subject_1', 'subject_2', 'subject_3', 'subject_4', 'subject_5',\n",
       "       'subject_6', 'subject_7', 'subject_8', 'subject_9', 'subject_10',\n",
       "       'subject_11', 'subject_12', 'subject_13', 'subject_14', 'subject_15',\n",
       "       'subject_16', 'subject_17', 'subject_18', 'subject_19', 'subject_20',\n",
       "       'subject_21', 'subject_22', 'subject_23', 'subject_24', 'subject_25',\n",
       "       'subject_26', 'subject_27', 'subject_28', 'subject_29', 'subject_30',\n",
       "       'subject_31', 'subject_32', 'subject_33', 'subject_34', 'subject_35',\n",
       "       'subject_36', 'subject_37', 'subject_38', 'subject_39', 'subject_40',\n",
       "       'subject_41', 'subject_42', 'subject_43', 'subject_44', 'subject_45',\n",
       "       'subject_46', 'subject_47', 'subject_48', 'subject_49', 'subject_50',\n",
       "       'subject_51', 'subject_52', 'subject_53', 'subject_54', 'subject_55',\n",
       "       'subject_56', 'subject_57', 'subject_58', 'subject_59', 'subject_60',\n",
       "       'subject_61', 'subject_62', 'subject_63', 'subject_64', 'subject_65',\n",
       "       'subject_66', 'subject_67', 'subject_68', 'subject_69', 'subject_70',\n",
       "       'subject_71', 'subject_72', 'subject_73', 'subject_74', 'subject_75',\n",
       "       'subject_76', 'subject_77', 'subject_78', 'subject_79', 'subject_80',\n",
       "       'subject_81', 'subject_82', 'file_name'],\n",
       "      dtype='object')"
      ]
     },
     "execution_count": 19,
     "metadata": {},
     "output_type": "execute_result"
    }
   ],
   "source": [
    "train2.columns"
   ]
  },
  {
   "cell_type": "code",
   "execution_count": null,
   "metadata": {},
   "outputs": [],
   "source": [
    "## for target, all columns are used except for 'ID' and 'File_name' columns"
   ]
  },
  {
   "cell_type": "code",
   "execution_count": 20,
   "metadata": {
    "colab": {},
    "colab_type": "code",
    "id": "pxZkfmvDBIh8"
   },
   "outputs": [],
   "source": [
    "target_columns=['subject_1', 'subject_2', 'subject_3', 'subject_4', 'subject_5',\n",
    "       'subject_6', 'subject_7', 'subject_8', 'subject_9', 'subject_10',\n",
    "       'subject_11', 'subject_12', 'subject_13', 'subject_14', 'subject_15',\n",
    "       'subject_16', 'subject_17', 'subject_18', 'subject_19', 'subject_20',\n",
    "       'subject_21', 'subject_22', 'subject_23', 'subject_24', 'subject_25',\n",
    "       'subject_26', 'subject_27', 'subject_28', 'subject_29', 'subject_30',\n",
    "       'subject_31', 'subject_32', 'subject_33', 'subject_34', 'subject_35',\n",
    "       'subject_36', 'subject_37', 'subject_38', 'subject_39', 'subject_40',\n",
    "       'subject_41', 'subject_42', 'subject_43', 'subject_44', 'subject_45',\n",
    "       'subject_46', 'subject_47', 'subject_48', 'subject_49', 'subject_50',\n",
    "       'subject_51', 'subject_52', 'subject_53', 'subject_54', 'subject_55',\n",
    "       'subject_56', 'subject_57', 'subject_58', 'subject_59', 'subject_60',\n",
    "       'subject_61', 'subject_62', 'subject_63', 'subject_64', 'subject_65',\n",
    "       'subject_66', 'subject_67', 'subject_68', 'subject_69', 'subject_70',\n",
    "       'subject_71', 'subject_72', 'subject_73', 'subject_74', 'subject_75',\n",
    "       'subject_76', 'subject_77', 'subject_78', 'subject_79', 'subject_80',\n",
    "       'subject_81', 'subject_82']"
   ]
  },
  {
   "cell_type": "markdown",
   "metadata": {
    "colab_type": "text",
    "id": "89aiDvzvBoAv"
   },
   "source": [
    "# **Further Processing for developing Deep Leartning Model**"
   ]
  },
  {
   "cell_type": "markdown",
   "metadata": {
    "colab_type": "text",
    "id": "l88iSxs9CGEd"
   },
   "source": [
    "## **First doing Face Augmentation only for the Train Data**"
   ]
  },
  {
   "cell_type": "code",
   "execution_count": 21,
   "metadata": {
    "colab": {},
    "colab_type": "code",
    "id": "QfQ380bMCQTC"
   },
   "outputs": [],
   "source": [
    "## Defining Augmentation object using ImageDataGenerator\n",
    "Training_Augmentation_generator = ImageDataGenerator(\n",
    "rotation_range=-45,\n",
    "rescale=1./255,\n",
    "width_shift_range=0.2,\n",
    "shear_range=0.2,\n",
    "zoom_range=0.2,\n",
    "height_shift_range=0.2,\n",
    "horizontal_flip=True,)"
   ]
  },
  {
   "cell_type": "markdown",
   "metadata": {
    "colab_type": "text",
    "id": "rc_kX_aiCaiq"
   },
   "source": [
    "## Train generator"
   ]
  },
  {
   "cell_type": "code",
   "execution_count": 22,
   "metadata": {
    "colab": {
     "base_uri": "https://localhost:8080/",
     "height": 35
    },
    "colab_type": "code",
    "id": "9-8KGvzzCdTY",
    "outputId": "b1cbfe06-11a5-403f-da01-47b523931d8d"
   },
   "outputs": [
    {
     "name": "stdout",
     "output_type": "stream",
     "text": [
      "Found 684 validated image filenames.\n"
     ]
    }
   ],
   "source": [
    "training__generator=Training_Augmentation_generator.flow_from_dataframe(\n",
    "dataframe=train2,\n",
    "directory=dir +\"/fg\",\n",
    "x_col='file_name',\n",
    "y_col=target_columns,\n",
    "batch_size=32,\n",
    "seed=42,\n",
    "#new\n",
    "color_mode=\"rgb\",\n",
    "shuffle=True,class_mode='raw',\n",
    "target_size=(150,150))"
   ]
  },
  {
   "cell_type": "markdown",
   "metadata": {
    "colab_type": "text",
    "id": "kLuGvTPoCjeg"
   },
   "source": [
    "## Validation generator"
   ]
  },
  {
   "cell_type": "code",
   "execution_count": 23,
   "metadata": {
    "colab": {
     "base_uri": "https://localhost:8080/",
     "height": 35
    },
    "colab_type": "code",
    "id": "gjO8zLk_Cm8o",
    "outputId": "5b458748-cf2d-45f4-f605-9617888cebee"
   },
   "outputs": [
    {
     "name": "stdout",
     "output_type": "stream",
     "text": [
      "Found 212 validated image filenames.\n"
     ]
    }
   ],
   "source": [
    "validation__data_generator = ImageDataGenerator(rescale=1./255)\n",
    "\n",
    "validation___generator=validation__data_generator.flow_from_dataframe(\n",
    "dataframe=valid,\n",
    "directory=dir +\"/fg\",\n",
    "x_col='file_name',\n",
    "y_col=target_columns,\n",
    "batch_size=32,\n",
    "seed=42,\n",
    "#new\n",
    "color_mode=\"rgb\",\n",
    "shuffle=True,class_mode='raw',\n",
    "target_size=(150,150))\n",
    "#note use Shuffle false to get reproducable results"
   ]
  },
  {
   "cell_type": "markdown",
   "metadata": {
    "colab_type": "text",
    "id": "SDn2YN7eCsVo"
   },
   "source": [
    "##  Test generator\n",
    "\n"
   ]
  },
  {
   "cell_type": "code",
   "execution_count": 24,
   "metadata": {
    "colab": {
     "base_uri": "https://localhost:8080/",
     "height": 35
    },
    "colab_type": "code",
    "id": "t6HwJUshCu8D",
    "outputId": "dc95f13c-c4f1-4b02-d492-c2390afd9b6b"
   },
   "outputs": [
    {
     "name": "stdout",
     "output_type": "stream",
     "text": [
      "Found 104 validated image filenames.\n"
     ]
    }
   ],
   "source": [
    "testing__data_generator = ImageDataGenerator(rescale=1./255)\n",
    "\n",
    "testing__generator=testing__data_generator.flow_from_dataframe(\n",
    "dataframe=test,\n",
    "directory=dir +\"/fg\",\n",
    "x_col='file_name',\n",
    "y_col=target_columns,\n",
    "batch_size=32,\n",
    "seed=42,\n",
    "#new\n",
    "color_mode=\"rgb\",\n",
    "shuffle=True,class_mode='raw',\n",
    "target_size=(150,150))\n",
    "#note use Shuffle false to get reproducable results"
   ]
  },
  {
   "cell_type": "markdown",
   "metadata": {
    "colab_type": "text",
    "id": "2Zbmd-t4C21g"
   },
   "source": [
    "# **Buidling Convlutional Network Model**"
   ]
  },
  {
   "cell_type": "code",
   "execution_count": 35,
   "metadata": {
    "colab": {},
    "colab_type": "code",
    "id": "L3cx_ZQRDBqs"
   },
   "outputs": [],
   "source": [
    "# adding regularization\n",
    "from keras.regularizers import l2\n",
    "from keras.layers.advanced_activations import LeakyReLU\n",
    "act = LeakyReLU(alpha=0.1)"
   ]
  },
  {
   "cell_type": "markdown",
   "metadata": {
    "colab_type": "text",
    "id": "DVAclwFRXERM"
   },
   "source": [
    "# The Convolution Network Model"
   ]
  },
  {
   "cell_type": "markdown",
   "metadata": {},
   "source": [
    "# New Model-6 after removing L2 Regularization (in previous attempt)"
   ]
  },
  {
   "cell_type": "code",
   "execution_count": 36,
   "metadata": {
    "colab": {},
    "colab_type": "code",
    "id": "1sh7W4SjC1IS"
   },
   "outputs": [],
   "source": [
    "## \n",
    "model6 =Sequential()\n",
    "\n",
    "model6.add(Conv2D(32, (3, 3), input_shape=(150,150, 3)))\n",
    "model6.add(act)\n",
    "model6.add(MaxPooling2D((2, 2)))\n",
    "model6.add(Dropout(0.2))\n",
    "\n",
    "\n",
    "model6.add(Conv2D(64, (3, 3)))\n",
    "model6.add(act)\n",
    "model6.add(MaxPooling2D((2, 2)))\n",
    "model6.add(Dropout(0.2))\n",
    "\n",
    "\n",
    "#model6.add(Conv2D(128, (3,3), kernel_regularizer=l2(0.01), bias_regularizer=l2(0.01)))\n",
    "model6.add(Conv2D(128, (3, 3)))\n",
    "model6.add(act)\n",
    "model6.add(MaxPooling2D((2, 2)))\n",
    "model6.add(Dropout(0.2))\n",
    "\n",
    "\n",
    "#4model6.add(Conv2D(128, (3,3), kernel_regularizer=l2(0.01), bias_regularizer=l2(0.01)))\n",
    "model6.add(Conv2D(128, (3, 3)))\n",
    "model6.add(act)\n",
    "model6.add(MaxPooling2D((2, 2)))\n",
    "model6.add(Dropout(0.2))\n",
    "\n",
    "#5\n",
    "model6.add(Conv2D(256, (3, 3)))\n",
    "model6.add(act)\n",
    "model6.add(MaxPooling2D((2, 2)))\n",
    "model6.add(Dropout(0.2))\n",
    "#6\n",
    "model6.add(Flatten())\n",
    "model6.add(Dropout(0.2))\n",
    "model6.add(Dense(128))\n",
    "model6.add(act)\n",
    "\n",
    "model6.add(Dense(82, activation='sigmoid'))\n",
    "#model5.add(Dense(82, activation=tf.nn.log_softmax))"
   ]
  },
  {
   "cell_type": "markdown",
   "metadata": {
    "colab_type": "text",
    "id": "x7aJqHHDgiVf"
   },
   "source": [
    "# Summary of the Model "
   ]
  },
  {
   "cell_type": "code",
   "execution_count": 37,
   "metadata": {
    "colab": {
     "base_uri": "https://localhost:8080/",
     "height": 904
    },
    "colab_type": "code",
    "id": "ArFXMTl6gmtN",
    "outputId": "c098b25d-7d5c-4ef7-a663-2407ffb47178"
   },
   "outputs": [
    {
     "name": "stdout",
     "output_type": "stream",
     "text": [
      "Model: \"sequential_1\"\n",
      "_________________________________________________________________\n",
      "Layer (type)                 Output Shape              Param #   \n",
      "=================================================================\n",
      "conv2d_1 (Conv2D)            (None, 148, 148, 32)      896       \n",
      "_________________________________________________________________\n",
      "leaky_re_lu_1 (LeakyReLU)    multiple                  0         \n",
      "_________________________________________________________________\n",
      "max_pooling2d_1 (MaxPooling2 (None, 74, 74, 32)        0         \n",
      "_________________________________________________________________\n",
      "dropout_1 (Dropout)          (None, 74, 74, 32)        0         \n",
      "_________________________________________________________________\n",
      "conv2d_2 (Conv2D)            (None, 72, 72, 64)        18496     \n",
      "_________________________________________________________________\n",
      "max_pooling2d_2 (MaxPooling2 (None, 36, 36, 64)        0         \n",
      "_________________________________________________________________\n",
      "dropout_2 (Dropout)          (None, 36, 36, 64)        0         \n",
      "_________________________________________________________________\n",
      "conv2d_3 (Conv2D)            (None, 34, 34, 128)       73856     \n",
      "_________________________________________________________________\n",
      "max_pooling2d_3 (MaxPooling2 (None, 17, 17, 128)       0         \n",
      "_________________________________________________________________\n",
      "dropout_3 (Dropout)          (None, 17, 17, 128)       0         \n",
      "_________________________________________________________________\n",
      "conv2d_4 (Conv2D)            (None, 15, 15, 128)       147584    \n",
      "_________________________________________________________________\n",
      "max_pooling2d_4 (MaxPooling2 (None, 7, 7, 128)         0         \n",
      "_________________________________________________________________\n",
      "dropout_4 (Dropout)          (None, 7, 7, 128)         0         \n",
      "_________________________________________________________________\n",
      "conv2d_5 (Conv2D)            (None, 5, 5, 256)         295168    \n",
      "_________________________________________________________________\n",
      "max_pooling2d_5 (MaxPooling2 (None, 2, 2, 256)         0         \n",
      "_________________________________________________________________\n",
      "dropout_5 (Dropout)          (None, 2, 2, 256)         0         \n",
      "_________________________________________________________________\n",
      "flatten_1 (Flatten)          (None, 1024)              0         \n",
      "_________________________________________________________________\n",
      "dropout_6 (Dropout)          (None, 1024)              0         \n",
      "_________________________________________________________________\n",
      "dense_1 (Dense)              (None, 128)               131200    \n",
      "_________________________________________________________________\n",
      "dense_2 (Dense)              (None, 82)                10578     \n",
      "=================================================================\n",
      "Total params: 677,778\n",
      "Trainable params: 677,778\n",
      "Non-trainable params: 0\n",
      "_________________________________________________________________\n"
     ]
    }
   ],
   "source": [
    "model6.summary()"
   ]
  },
  {
   "cell_type": "markdown",
   "metadata": {
    "colab_type": "text",
    "id": "k5EcKTvEDKfa"
   },
   "source": [
    "## Compiling Model-6"
   ]
  },
  {
   "cell_type": "code",
   "execution_count": 130,
   "metadata": {
    "colab": {},
    "colab_type": "code",
    "id": "qhojiq36DNMB"
   },
   "outputs": [],
   "source": [
    "model6.compile(loss='binary_crossentropy',\n",
    "optimizer=optimizers.Adam(learning_rate=1e-5),\n",
    "metrics=['accuracy'])"
   ]
  },
  {
   "cell_type": "markdown",
   "metadata": {
    "colab_type": "text",
    "id": "NNjFjvDqCztA"
   },
   "source": [
    "# **Model-6 Training Begins**"
   ]
  },
  {
   "cell_type": "code",
   "execution_count": 63,
   "metadata": {
    "colab": {
     "base_uri": "https://localhost:8080/",
     "height": 481
    },
    "colab_type": "code",
    "id": "X-gMmFbWDwHE",
    "outputId": "48627751-dabf-47ee-baf9-bac0c10db77e"
   },
   "outputs": [
    {
     "name": "stdout",
     "output_type": "stream",
     "text": [
      "Epoch 1/12\n",
      "21/21 [==============================] - 160s 8s/step - loss: 0.6810 - accuracy: 0.3895 - val_loss: 0.6859 - val_accuracy: 0.4998\n",
      "Epoch 2/12\n",
      "21/21 [==============================] - 156s 7s/step - loss: 0.6598 - accuracy: 0.4863 - val_loss: 0.6774 - val_accuracy: 0.5644\n",
      "Epoch 3/12\n",
      "21/21 [==============================] - 184s 9s/step - loss: 0.6298 - accuracy: 0.5496 - val_loss: 0.6628 - val_accuracy: 0.6236\n",
      "Epoch 4/12\n",
      "21/21 [==============================] - 186s 9s/step - loss: 0.5847 - accuracy: 0.5948 - val_loss: 0.6369 - val_accuracy: 0.6795\n",
      "Epoch 5/12\n",
      "21/21 [==============================] - 154s 7s/step - loss: 0.5147 - accuracy: 0.6376 - val_loss: 0.5874 - val_accuracy: 0.7074\n",
      "Epoch 6/12\n",
      "21/21 [==============================] - 137s 7s/step - loss: 0.4254 - accuracy: 0.6772 - val_loss: 0.5162 - val_accuracy: 0.7373\n",
      "Epoch 7/12\n",
      "21/21 [==============================] - 137s 7s/step - loss: 0.3289 - accuracy: 0.7105 - val_loss: 0.4345 - val_accuracy: 0.7597\n",
      "Epoch 8/12\n",
      "21/21 [==============================] - 21711s 1034s/step - loss: 0.2496 - accuracy: 0.7363 - val_loss: 0.3484 - val_accuracy: 0.7697\n",
      "Epoch 9/12\n",
      "21/21 [==============================] - 1125s 54s/step - loss: 0.1897 - accuracy: 0.7557 - val_loss: 0.2705 - val_accuracy: 0.7699\n",
      "Epoch 10/12\n",
      "21/21 [==============================] - 149s 7s/step - loss: 0.1521 - accuracy: 0.7693 - val_loss: 0.2098 - val_accuracy: 0.7760\n",
      "Epoch 11/12\n",
      "21/21 [==============================] - 164s 8s/step - loss: 0.1274 - accuracy: 0.7760 - val_loss: 0.1845 - val_accuracy: 0.7760\n",
      "Epoch 12/12\n",
      "21/21 [==============================] - 179s 9s/step - loss: 0.1119 - accuracy: 0.7760 - val_loss: 0.1580 - val_accuracy: 0.7760\n"
     ]
    }
   ],
   "source": [
    "SIZE_OF_STEP_FOR_TRAINING=training__generator.n//training__generator.batch_size\n",
    "SIZE_OF_STEP_FOR_VALIDATION=validation___generator.n//validation___generator.batch_size\n",
    "\n",
    "history1=model6.fit_generator(generator=training__generator,\n",
    "                    steps_per_epoch=SIZE_OF_STEP_FOR_TRAINING,\n",
    "                    validation_data=validation___generator,\n",
    "                    validation_steps=SIZE_OF_STEP_FOR_VALIDATION,\n",
    "                    epochs=12 \n",
    "                   \n",
    ")"
   ]
  },
  {
   "cell_type": "markdown",
   "metadata": {
    "colab_type": "text",
    "id": "rw6T93i0aOWK"
   },
   "source": [
    "# Saving the Model-6"
   ]
  },
  {
   "cell_type": "code",
   "execution_count": 35,
   "metadata": {
    "colab": {},
    "colab_type": "code",
    "id": "pkCOSOLhaima"
   },
   "outputs": [],
   "source": [
    "model_path=dir +'/model__july30.h5'\n",
    "# saving model\n",
    "model6.save(model_path)"
   ]
  },
  {
   "cell_type": "markdown",
   "metadata": {
    "colab_type": "text",
    "id": "2VCk6EPLabW4"
   },
   "source": [
    "# Saving Losses and Accuracy History Parameters of the Model-6"
   ]
  },
  {
   "cell_type": "code",
   "execution_count": 292,
   "metadata": {
    "colab": {},
    "colab_type": "code",
    "id": "OP-tUGB7af3s"
   },
   "outputs": [],
   "source": [
    "import json\n",
    "# # Get the dictionary containing each metric and the loss for each epoch\n",
    "history_dict = history1.history"
   ]
  },
  {
   "cell_type": "code",
   "execution_count": null,
   "metadata": {},
   "outputs": [],
   "source": [
    "# # Save it under the form of a json file\n",
    "history_path=dir +'/history__july30.json'\n",
    "json.dump(str(history_dict), open(history_path, 'w'))"
   ]
  },
  {
   "cell_type": "markdown",
   "metadata": {
    "colab_type": "text",
    "id": "0_1KTupqcdcq"
   },
   "source": [
    "# Loading the Saved Model-6"
   ]
  },
  {
   "cell_type": "code",
   "execution_count": 25,
   "metadata": {},
   "outputs": [],
   "source": [
    "from keras.models import load_model \n",
    "model_path=dir +'/model_july30.h5'\n",
    "loaded_model = load_model(model_path) "
   ]
  },
  {
   "cell_type": "markdown",
   "metadata": {
    "colab_type": "text",
    "id": "wa_63Ku2bVwo"
   },
   "source": [
    "# Loading History of Accuracy and Losses of the Model-6"
   ]
  },
  {
   "cell_type": "code",
   "execution_count": 26,
   "metadata": {
    "colab": {},
    "colab_type": "code",
    "id": "ibklihC7bX2Y"
   },
   "outputs": [],
   "source": [
    "import json\n",
    "history_path=dir +'/history_july30.json'\n",
    "history= json.load(open(history_path, 'r'))"
   ]
  },
  {
   "cell_type": "code",
   "execution_count": 27,
   "metadata": {
    "colab": {},
    "colab_type": "code",
    "id": "pLCGv9CLdpvx"
   },
   "outputs": [],
   "source": [
    "# The loaded history is in String format.Converting it back to\n",
    "# dictionary\n",
    "import ast\n",
    "history_1=ast.literal_eval(history)"
   ]
  },
  {
   "cell_type": "markdown",
   "metadata": {
    "colab_type": "text",
    "id": "3IgBtOaibjCD"
   },
   "source": [
    "# **Plotting Losses and Accuracy History of the Model-6**"
   ]
  },
  {
   "cell_type": "code",
   "execution_count": 30,
   "metadata": {
    "colab": {
     "base_uri": "https://localhost:8080/",
     "height": 545
    },
    "colab_type": "code",
    "id": "vsiaAEE7d7Ws",
    "outputId": "2fb6f370-c5f4-40c9-f414-d789deb82051"
   },
   "outputs": [
    {
     "data": {
      "image/png": "[encoded data removed]",
      "text/plain": [
       "<Figure size 432x288 with 1 Axes>"
      ]
     },
     "metadata": {
      "needs_background": "light"
     },
     "output_type": "display_data"
    },
    {
     "data": {
      "image/png": "[encoded data removed]",
      "text/plain": [
       "<Figure size 432x288 with 1 Axes>"
      ]
     },
     "metadata": {
      "needs_background": "light"
     },
     "output_type": "display_data"
    }
   ],
   "source": [
    "### .\n",
    "acc = history_1['accuracy']\n",
    "#acc=np.array(acc)\n",
    "val_acc = history_1['val_accuracy']\n",
    "#val_acc=np.array(val_acc)\n",
    "loss = history_1['loss']\n",
    "val_loss = history_1['val_loss']\n",
    "epochs = range(1, len(acc) + 1)\n",
    "acc=np.array(acc)\n",
    "val_acc=np.array(val_acc)\n",
    "plt.plot(epochs, np.array(acc) , 'r', label='Training acc')\n",
    "plt.plot(epochs, np.array(val_acc) , 'b', label='Validation acc')\n",
    "plt.title('Training and validation accuracy')\n",
    "plt.legend()\n",
    "plt.figure()\n",
    "plt.plot(epochs, loss, 'r', label='Training loss')\n",
    "plt.plot(epochs, val_loss, 'b', label='Validation loss')\n",
    "plt.title('Training and validation loss')\n",
    "plt.legend()\n",
    "plt.show()"
   ]
  },
  {
   "cell_type": "markdown",
   "metadata": {},
   "source": [
    "# Loading pre trained Model"
   ]
  },
  {
   "cell_type": "code",
   "execution_count": 134,
   "metadata": {},
   "outputs": [],
   "source": [
    "from keras.models import load_model \n",
    "model_path=dir +'/model_july30.h5'\n",
    "loaded_model = load_model(model_path) "
   ]
  },
  {
   "cell_type": "markdown",
   "metadata": {
    "colab_type": "text",
    "id": "Ueeo-N8gBxqH"
   },
   "source": [
    "## **Model Evaluation on un seen data** (i.e Test Data)"
   ]
  },
  {
   "cell_type": "code",
   "execution_count": 31,
   "metadata": {},
   "outputs": [],
   "source": [
    "import PIL\n",
    "from keras_preprocessing import image"
   ]
  },
  {
   "cell_type": "code",
   "execution_count": 34,
   "metadata": {},
   "outputs": [
    {
     "name": "stdout",
     "output_type": "stream",
     "text": [
      "Test loss: 0.10871367156505585\n",
      "Test accuracy: 0.7678048300743103\n"
     ]
    }
   ],
   "source": [
    "score=loaded_model.evaluate_generator(testing__generator)\n",
    "score=np.array(score)\n",
    "print('Test loss:', score[0])\n",
    "print('Test accuracy:', score[1])"
   ]
  },
  {
   "cell_type": "markdown",
   "metadata": {},
   "source": [
    "# # We can see that we have 76.78% accuracy and 10.87% losses on the unseen data (i.e The Test data)"
   ]
  },
  {
   "cell_type": "markdown",
   "metadata": {},
   "source": [
    "# *xxxxxxxxxxxxxxxxxxxxxxxxxxxxxxxxxxxxxxxxxxxxxxxxx*"
   ]
  },
  {
   "cell_type": "markdown",
   "metadata": {
    "colab_type": "text",
    "id": "bKZxpQ7bV7Zd"
   },
   "source": [
    "# **Manual Verification of Predictions of CNN Model**"
   ]
  },
  {
   "cell_type": "markdown",
   "metadata": {
    "colab_type": "text",
    "id": "Ynioh7fGby4H"
   },
   "source": [
    "# Prediction of Classes for the 2 Images taken out before training"
   ]
  },
  {
   "cell_type": "markdown",
   "metadata": {
    "colab_type": "text",
    "id": "ffjd7pw-b6K6"
   },
   "source": [
    "# Predicting class for 057A18.JPG (which has Class=57)"
   ]
  },
  {
   "cell_type": "code",
   "execution_count": 90,
   "metadata": {},
   "outputs": [],
   "source": [
    "image_path_1=dir + '/fg/057A18.JPG'\n",
    "image_path_2=dir + '/fg/032A28.JPG'"
   ]
  },
  {
   "cell_type": "code",
   "execution_count": 92,
   "metadata": {
    "colab": {
     "base_uri": "https://localhost:8080/",
     "height": 287
    },
    "colab_type": "code",
    "id": "HpxHa015g1GS",
    "outputId": "2198188c-e03c-4aeb-b63f-3e4139177879"
   },
   "outputs": [
    {
     "data": {
      "image/png": "[encoded data removed]",
      "text/plain": [
       "<Figure size 432x288 with 1 Axes>"
      ]
     },
     "metadata": {
      "needs_background": "light"
     },
     "output_type": "display_data"
    }
   ],
   "source": [
    "import matplotlib.pyplot as plt\n",
    "import matplotlib.image as mpimg\n",
    "img=mpimg.imread(image_path_1)\n",
    "imgplot = plt.imshow(img)\n",
    "plt.show()"
   ]
  },
  {
   "cell_type": "code",
   "execution_count": 44,
   "metadata": {
    "colab": {},
    "colab_type": "code",
    "id": "m345gVLub72U"
   },
   "outputs": [],
   "source": [
    "from keras_preprocessing import image"
   ]
  },
  {
   "cell_type": "code",
   "execution_count": 91,
   "metadata": {
    "colab": {
     "base_uri": "https://localhost:8080/",
     "height": 35
    },
    "colab_type": "code",
    "id": "MgFBnM-VcImO",
    "outputId": "734cbdfd-a467-42dc-fb87-c1fd84b2955b"
   },
   "outputs": [
    {
     "data": {
      "text/plain": [
       "array([57], dtype=int64)"
      ]
     },
     "execution_count": 91,
     "metadata": {},
     "output_type": "execute_result"
    }
   ],
   "source": [
    "test_image = image.load_img(image_path_1, target_size=(150, 150))\n",
    "test_image = image.img_to_array(test_image)\n",
    "test_image=test_image/255\n",
    "test_image = np.expand_dims(test_image, axis=0)\n",
    "testing__generator.reset()\n",
    "prediction = loaded_model.predict(test_image)\n",
    "np.argmax(prediction, axis=1)"
   ]
  },
  {
   "cell_type": "markdown",
   "metadata": {
    "colab_type": "text",
    "id": "-171VxOifWvA"
   },
   "source": [
    "# # The manual verification for prediction for the un seen image 057A18.JPG of Class 57 is correct as 57 "
   ]
  },
  {
   "cell_type": "markdown",
   "metadata": {
    "colab_type": "text",
    "id": "pOrXtrxef7Jm"
   },
   "source": [
    "# Predicting class for 032A28.JPG (which has Class=32)"
   ]
  },
  {
   "cell_type": "code",
   "execution_count": 93,
   "metadata": {
    "colab": {
     "base_uri": "https://localhost:8080/",
     "height": 269
    },
    "colab_type": "code",
    "id": "taSCd5cAg-jk",
    "outputId": "241a1d38-742b-4afa-9d7b-d823d756480b"
   },
   "outputs": [
    {
     "data": {
      "image/png": "[encoded data removed]",
      "text/plain": [
       "<Figure size 432x288 with 1 Axes>"
      ]
     },
     "metadata": {
      "needs_background": "light"
     },
     "output_type": "display_data"
    }
   ],
   "source": [
    "img=mpimg.imread(image_path_2)\n",
    "imgplot = plt.imshow(img)\n",
    "plt.show()"
   ]
  },
  {
   "cell_type": "code",
   "execution_count": 94,
   "metadata": {
    "colab": {
     "base_uri": "https://localhost:8080/",
     "height": 35
    },
    "colab_type": "code",
    "id": "jetmKgTdM6OX",
    "outputId": "eac7ce45-a61b-4da2-ebcc-9cfa24ba3728"
   },
   "outputs": [
    {
     "data": {
      "text/plain": [
       "array([32], dtype=int64)"
      ]
     },
     "execution_count": 94,
     "metadata": {},
     "output_type": "execute_result"
    }
   ],
   "source": [
    "test_image = image.load_img(image_path_2, target_size=(150, 150))\n",
    "test_image = image.img_to_array(test_image)\n",
    "test_image=test_image/255\n",
    "test_image = np.expand_dims(test_image, axis=0)\n",
    "testing__generator.reset()\n",
    "prediction = loaded_model.predict(test_image)\n",
    "np.argmax(prediction, axis=1)"
   ]
  },
  {
   "cell_type": "markdown",
   "metadata": {
    "colab_type": "text",
    "id": "UYzyXJeTgKX_"
   },
   "source": [
    "# The manual verification for prediction for the un seen image 032A28.JPG of Class 32 is correct as 32 "
   ]
  },
  {
   "cell_type": "code",
   "execution_count": null,
   "metadata": {},
   "outputs": [],
   "source": []
  }
 ],
 "metadata": {
  "accelerator": "GPU",
  "colab": {
   "collapsed_sections": [],
   "name": "Objective-2 Time Invariant Aging Model and Face Recognition(August 08)",
   "provenance": []
  },
  "kernelspec": {
   "display_name": "Python 3",
   "language": "python",
   "name": "python3"
  },
  "language_info": {
   "codemirror_mode": {
    "name": "ipython",
    "version": 3
   },
   "file_extension": ".py",
   "mimetype": "text/x-python",
   "name": "python",
   "nbconvert_exporter": "python",
   "pygments_lexer": "ipython3",
   "version": "3.6.10"
  }
 },
 "nbformat": 4,
 "nbformat_minor": 1
}
